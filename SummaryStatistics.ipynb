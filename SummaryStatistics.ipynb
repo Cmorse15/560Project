{
 "cells": [
  {
   "cell_type": "code",
   "execution_count": 1,
   "metadata": {},
   "outputs": [],
   "source": [
    "#assume once joined PCG always in - correct?? 0,0,1100,1300,0,0,1200 - assuming middle 0's are still in no raised\n",
    "import numpy as np\n",
    "import pandas as pd\n",
    "from linearmodels import PanelOLS\n",
    "import statsmodels.api as sm\n",
    "from scipy import stats"
   ]
  },
  {
   "cell_type": "code",
   "execution_count": 2,
   "metadata": {},
   "outputs": [],
   "source": [
    "df_New_Main = pd.read_excel('TAMU_NewForm_Main_20170817.xlsx')\n",
    "df_Old_Main = pd.read_excel('TAMU_OldForm_Main_20170817.xlsx')\n",
    "df_PCG_Data = pd.read_csv('PCG_Donor_Data2.csv')\n",
    "\n",
    "#do all renaming here\n",
    "df_PCG_All = df_PCG_Data.rename(index=str, columns = {\"Unnamed: 0\" : \"org_name\"})\n",
    "df_Old_All = df_Old_Main.rename(index=str, columns = {\"ein\" : \"EIN\"})[['org_name', 'EIN', 'FiscalYearEnd',\n",
    "                                                      'NTEECODE', 'government_grants', \n",
    "                                                      'service_revenue', 'membership_dues', 'fundraising']]\n",
    "df_New_All = df_New_Main.rename(index=str, columns = {\"ORGNAME\" : \"org_name\"})[['org_name', 'EIN', 'FiscalYearEnd', \n",
    "                                                      'NTEECODE', 'FED_CAMPAIGNS', 'MEMBERSHIP_DUES', \n",
    "                                                      'TOTAL_FUNDRAISING', 'RELATED_ORGS', 'GOV_GRANTS', 'CONTRIB_OTHER', \n",
    "                                                      'CONTRIB_NONCASH', 'CONTRIB_ALL', 'SERVICE_REVENUE']].rename(index=str, columns = {\"MEMBERSHIP_DUES\" : \"membership_dues\", \n",
    "                                                                           \"GOV_GRANTS\" : \"government_grants\", \n",
    "                                                                           \"SERVICE_REVENUE\" : \"service_revenue\", \"TOTAL_FUNDRAISING\" : \"fundraising\"})\n",
    "\n",
    "#aggregate summing of repeated EINs\n",
    "df_PCG_All.loc[df_PCG_All['EIN'] == '23-7394620', 'org_name'] = 'University of Alaska'\n",
    "df_PCG_All.loc[df_PCG_All['EIN'] == '92-0155067', 'org_name'] = 'Alaska Community Foundation'\n",
    "df_PCG_All.loc[df_PCG_All['EIN'] == '92-0152088', 'org_name'] = 'Alaska Medical Missions CHA'\n",
    "df_PCG_All.loc[df_PCG_All['EIN'] == '92-6001185', 'org_name'] = 'Crime Victim Compensation Fund'\n",
    "df_PCG_All = df_PCG_All.groupby(['EIN','org_name'], as_index = False).sum()\n",
    "#grouped so each EIN appears 1 time\n",
    "#604 unique organizations by EIN (df_PCG_All['EIN'].nunique())\n",
    "#new is 2007 - 2015\n",
    "#old is 1998 - 2008\n",
    "df_New = df_New_All[['EIN', 'FiscalYearEnd', 'membership_dues', \n",
    "                                    'government_grants', 'service_revenue', 'fundraising']].fillna(0)\n",
    "df_Old = df_Old_All[['EIN', 'FiscalYearEnd', 'membership_dues', \n",
    "                                    'government_grants', 'service_revenue', 'fundraising']].fillna(0)\n",
    "df_PCG = pd.melt(df_PCG_All, id_vars=['EIN', 'org_name'], value_vars=['2009','2010','2011','2012','2013',\n",
    "                                    '2014','2015','2016','2017','2018'], var_name = 'FiscalYearEnd', value_name = 'Raised')\n",
    "df_PCG['FiscalYearEnd'] = df_PCG['FiscalYearEnd'].astype(int)\n",
    "df_OldNew = pd.concat([df_New, df_Old], ignore_index = True)\n",
    "\n",
    "#assume year started is min year where raised > 0\n",
    "df_PCG_NOZERO = df_PCG[df_PCG['Raised'] != 0]\n",
    "df_PCG_Start = df_PCG_NOZERO.groupby('EIN', as_index=False)['FiscalYearEnd'].min().rename(index=str, columns = {\"FiscalYearEnd\": \"PCGStartYear\"})"
   ]
  },
  {
   "cell_type": "code",
   "execution_count": 3,
   "metadata": {},
   "outputs": [
    {
     "data": {
      "image/png": "[encoded data removed]",
      "text/plain": [
       "<Figure size 432x288 with 1 Axes>"
      ]
     },
     "metadata": {
      "needs_background": "light"
     },
     "output_type": "display_data"
    }
   ],
   "source": [
    "df_YearReporting = df_OldNew.groupby('FiscalYearEnd')['EIN'].count().reset_index(name='NumberReporting')\n",
    "plt = df_YearReporting.plot.bar(x='FiscalYearEnd',y='NumberReporting')"
   ]
  },
  {
   "cell_type": "code",
   "execution_count": 4,
   "metadata": {},
   "outputs": [],
   "source": [
    "#want year reporting to have column = numbe of reporting that are in pcg"
   ]
  },
  {
   "cell_type": "code",
   "execution_count": 5,
   "metadata": {},
   "outputs": [],
   "source": [
    "df_Years = pd.concat([df_PCG[['EIN','FiscalYearEnd']], df_OldNew[['EIN','FiscalYearEnd']]]).drop_duplicates()"
   ]
  },
  {
   "cell_type": "code",
   "execution_count": 6,
   "metadata": {},
   "outputs": [],
   "source": [
    "df_Years_Start = df_Years.merge(df_PCG_Start, how = 'left', on='EIN')"
   ]
  },
  {
   "cell_type": "code",
   "execution_count": 7,
   "metadata": {},
   "outputs": [],
   "source": [
    "df_Years_Start['in_PCG'] = (df_Years_Start['FiscalYearEnd']  >= df_Years_Start['PCGStartYear']).astype(int)"
   ]
  },
  {
   "cell_type": "code",
   "execution_count": 8,
   "metadata": {},
   "outputs": [],
   "source": [
    "df_All_Years = pd.merge(df_Years_Start, df_OldNew[['EIN','FiscalYearEnd']], on =['EIN','FiscalYearEnd'], \n",
    "         how='left', indicator='IRS_Report')"
   ]
  },
  {
   "cell_type": "code",
   "execution_count": 9,
   "metadata": {},
   "outputs": [],
   "source": [
    "df_All_Years['IRS_Report'] = (df_All_Years['IRS_Report'] == 'both').astype(int)"
   ]
  },
  {
   "cell_type": "code",
   "execution_count": 10,
   "metadata": {},
   "outputs": [],
   "source": [
    "#df_All_Years[(df_All_Years['in_PCG'] == 1) & (df_All_Years['IRS_Report'] == 1)]"
   ]
  },
  {
   "cell_type": "code",
   "execution_count": 11,
   "metadata": {},
   "outputs": [
    {
     "data": {
      "image/png": "[encoded data removed]",
      "text/plain": [
       "<Figure size 432x288 with 1 Axes>"
      ]
     },
     "metadata": {
      "needs_background": "light"
     },
     "output_type": "display_data"
    }
   ],
   "source": [
    "plt = df_All_Years.groupby('FiscalYearEnd')['in_PCG'].sum().plot.bar(x='FiscalYearEnd',y=['unnamed'])"
   ]
  },
  {
   "cell_type": "code",
   "execution_count": 12,
   "metadata": {},
   "outputs": [
    {
     "data": {
      "image/png": "[encoded data removed]",
      "text/plain": [
       "<Figure size 432x288 with 1 Axes>"
      ]
     },
     "metadata": {
      "needs_background": "light"
     },
     "output_type": "display_data"
    }
   ],
   "source": [
    "plt = df_All_Years.groupby('FiscalYearEnd')['IRS_Report'].sum().plot.bar(x='FiscalYearEnd',y=['unnamed'])"
   ]
  },
  {
   "cell_type": "code",
   "execution_count": 17,
   "metadata": {},
   "outputs": [],
   "source": [
    "df_All_IRS = df_All_Years[df_All_Years['IRS_Report'] == 1]"
   ]
  },
  {
   "cell_type": "code",
   "execution_count": 19,
   "metadata": {},
   "outputs": [
    {
     "data": {
      "text/plain": [
       "FiscalYearEnd\n",
       "1998      0\n",
       "1999      0\n",
       "2000      0\n",
       "2001      0\n",
       "2002      0\n",
       "2003      0\n",
       "2004      0\n",
       "2005      0\n",
       "2006      0\n",
       "2007      0\n",
       "2008      0\n",
       "2009    128\n",
       "2010    167\n",
       "2011    212\n",
       "2012    237\n",
       "2013    253\n",
       "2014    280\n",
       "2015    183\n",
       "Name: in_PCG, dtype: int64"
      ]
     },
     "execution_count": 19,
     "metadata": {},
     "output_type": "execute_result"
    }
   ],
   "source": [
    "df_All_IRS.groupby('FiscalYearEnd')['in_PCG'].sum()"
   ]
  },
  {
   "cell_type": "code",
   "execution_count": 22,
   "metadata": {},
   "outputs": [],
   "source": [
    "df_PCT_PCG = df_YearReporting.merge(df_All_IRS.groupby('FiscalYearEnd')['in_PCG'].sum(), how = 'left', on='FiscalYearEnd')"
   ]
  },
  {
   "cell_type": "code",
   "execution_count": 26,
   "metadata": {},
   "outputs": [],
   "source": [
    "df_PCT_PCG['pct_PCG'] = df_PCT_PCG['in_PCG']/df_PCT_PCG['NumberReporting']"
   ]
  },
  {
   "cell_type": "code",
   "execution_count": 28,
   "metadata": {},
   "outputs": [
    {
     "data": {
      "image/png": "[encoded data removed]",
      "text/plain": [
       "<Figure size 432x288 with 1 Axes>"
      ]
     },
     "metadata": {
      "needs_background": "light"
     },
     "output_type": "display_data"
    }
   ],
   "source": [
    "plt = df_PCT_PCG.plot.bar(x='FiscalYearEnd', y='pct_PCG')"
   ]
  },
  {
   "cell_type": "code",
   "execution_count": null,
   "metadata": {},
   "outputs": [],
   "source": []
  },
  {
   "cell_type": "code",
   "execution_count": null,
   "metadata": {},
   "outputs": [],
   "source": []
  },
  {
   "cell_type": "code",
   "execution_count": 27,
   "metadata": {},
   "outputs": [
    {
     "data": {
      "text/html": [
       "<div>\n",
       "<style scoped>\n",
       "    .dataframe tbody tr th:only-of-type {\n",
       "        vertical-align: middle;\n",
       "    }\n",
       "\n",
       "    .dataframe tbody tr th {\n",
       "        vertical-align: top;\n",
       "    }\n",
       "\n",
       "    .dataframe thead th {\n",
       "        text-align: right;\n",
       "    }\n",
       "</style>\n",
       "<table border=\"1\" class=\"dataframe\">\n",
       "  <thead>\n",
       "    <tr style=\"text-align: right;\">\n",
       "      <th></th>\n",
       "      <th>FiscalYearEnd</th>\n",
       "      <th>NumberReporting</th>\n",
       "      <th>in_PCG</th>\n",
       "      <th>pct_PCG</th>\n",
       "    </tr>\n",
       "  </thead>\n",
       "  <tbody>\n",
       "    <tr>\n",
       "      <th>0</th>\n",
       "      <td>1998</td>\n",
       "      <td>2651</td>\n",
       "      <td>0</td>\n",
       "      <td>0.0</td>\n",
       "    </tr>\n",
       "  </tbody>\n",
       "</table>\n",
       "</div>"
      ],
      "text/plain": [
       "   FiscalYearEnd  NumberReporting  in_PCG  pct_PCG\n",
       "0           1998             2651       0      0.0"
      ]
     },
     "execution_count": 27,
     "metadata": {},
     "output_type": "execute_result"
    }
   ],
   "source": [
    "df_PCT_PCG.head(1)"
   ]
  },
  {
   "cell_type": "code",
   "execution_count": null,
   "metadata": {},
   "outputs": [],
   "source": []
  }
 ],
 "metadata": {
  "kernelspec": {
   "display_name": "Python 3",
   "language": "python",
   "name": "python3"
  },
  "language_info": {
   "codemirror_mode": {
    "name": "ipython",
    "version": 3
   },
   "file_extension": ".py",
   "mimetype": "text/x-python",
   "name": "python",
   "nbconvert_exporter": "python",
   "pygments_lexer": "ipython3",
   "version": "3.7.2"
  }
 },
 "nbformat": 4,
 "nbformat_minor": 2
}

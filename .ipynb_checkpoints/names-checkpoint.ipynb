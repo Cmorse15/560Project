{
 "cells": [
  {
   "cell_type": "code",
   "execution_count": 2,
   "metadata": {},
   "outputs": [],
   "source": [
    "import pandas as pd"
   ]
  },
  {
   "cell_type": "code",
   "execution_count": 3,
   "metadata": {},
   "outputs": [],
   "source": [
    "df_New_Main = pd.read_excel('TAMU_NewForm_Main_20170817.xlsx')\n",
    "df_Old_Main = pd.read_excel('TAMU_OldForm_Main_20170817.xlsx')\n",
    "df_PCG_Data = pd.read_csv('PCG_Donor_Data2.csv')"
   ]
  },
  {
   "cell_type": "code",
   "execution_count": null,
   "metadata": {},
   "outputs": [],
   "source": [
    "df_PCG_Data_EIN = df_PCG_Data.rename(index=str, columns = {\"Unnamed: 0\" : \"org_name\"})['EIN']\n",
    "df_New_Main_EIN = df_New_Main.rename(index=str, columns = {\"ORGNAME\" : \"org_name\"})['EIN']\n",
    "df_Old_Main_EIN = df_Old_Main.rename(index=str, columns = {\"ein\" : \"EIN\"})['EIN']"
   ]
  },
  {
   "cell_type": "code",
   "execution_count": 7,
   "metadata": {},
   "outputs": [
    {
     "ename": "KeyError",
     "evalue": "('org_nam', 'EIN')",
     "output_type": "error",
     "traceback": [
      "\u001b[0;31m---------------------------------------------------------------------------\u001b[0m",
      "\u001b[0;31mKeyError\u001b[0m                                  Traceback (most recent call last)",
      "\u001b[0;32m/Library/Frameworks/Python.framework/Versions/3.7/lib/python3.7/site-packages/pandas/core/indexes/base.py\u001b[0m in \u001b[0;36mget_loc\u001b[0;34m(self, key, method, tolerance)\u001b[0m\n\u001b[1;32m   2601\u001b[0m             \u001b[0;32mtry\u001b[0m\u001b[0;34m:\u001b[0m\u001b[0;34m\u001b[0m\u001b[0;34m\u001b[0m\u001b[0m\n\u001b[0;32m-> 2602\u001b[0;31m                 \u001b[0;32mreturn\u001b[0m \u001b[0mself\u001b[0m\u001b[0;34m.\u001b[0m\u001b[0m_engine\u001b[0m\u001b[0;34m.\u001b[0m\u001b[0mget_loc\u001b[0m\u001b[0;34m(\u001b[0m\u001b[0mkey\u001b[0m\u001b[0;34m)\u001b[0m\u001b[0;34m\u001b[0m\u001b[0;34m\u001b[0m\u001b[0m\n\u001b[0m\u001b[1;32m   2603\u001b[0m             \u001b[0;32mexcept\u001b[0m \u001b[0mKeyError\u001b[0m\u001b[0;34m:\u001b[0m\u001b[0;34m\u001b[0m\u001b[0;34m\u001b[0m\u001b[0m\n",
      "\u001b[0;32mpandas/_libs/index.pyx\u001b[0m in \u001b[0;36mpandas._libs.index.IndexEngine.get_loc\u001b[0;34m()\u001b[0m\n",
      "\u001b[0;32mpandas/_libs/index.pyx\u001b[0m in \u001b[0;36mpandas._libs.index.IndexEngine.get_loc\u001b[0;34m()\u001b[0m\n",
      "\u001b[0;32mpandas/_libs/hashtable_class_helper.pxi\u001b[0m in \u001b[0;36mpandas._libs.hashtable.PyObjectHashTable.get_item\u001b[0;34m()\u001b[0m\n",
      "\u001b[0;32mpandas/_libs/hashtable_class_helper.pxi\u001b[0m in \u001b[0;36mpandas._libs.hashtable.PyObjectHashTable.get_item\u001b[0;34m()\u001b[0m\n",
      "\u001b[0;31mKeyError\u001b[0m: ('org_nam', 'EIN')",
      "\nDuring handling of the above exception, another exception occurred:\n",
      "\u001b[0;31mKeyError\u001b[0m                                  Traceback (most recent call last)",
      "\u001b[0;32m<ipython-input-7-38010a3ab548>\u001b[0m in \u001b[0;36m<module>\u001b[0;34m\u001b[0m\n\u001b[1;32m      1\u001b[0m \u001b[0mdf_PCG_All\u001b[0m \u001b[0;34m=\u001b[0m \u001b[0mdf_PCG_Data\u001b[0m\u001b[0;34m.\u001b[0m\u001b[0mrename\u001b[0m\u001b[0;34m(\u001b[0m\u001b[0mindex\u001b[0m\u001b[0;34m=\u001b[0m\u001b[0mstr\u001b[0m\u001b[0;34m,\u001b[0m \u001b[0mcolumns\u001b[0m \u001b[0;34m=\u001b[0m \u001b[0;34m{\u001b[0m\u001b[0;34m\"Unnamed: 0\"\u001b[0m \u001b[0;34m:\u001b[0m \u001b[0;34m\"org_name\"\u001b[0m\u001b[0;34m}\u001b[0m\u001b[0;34m)\u001b[0m\u001b[0;34m\u001b[0m\u001b[0;34m\u001b[0m\u001b[0m\n\u001b[0;32m----> 2\u001b[0;31m \u001b[0mdf_Old_All\u001b[0m \u001b[0;34m=\u001b[0m \u001b[0mdf_Old_Main\u001b[0m\u001b[0;34m.\u001b[0m\u001b[0mrename\u001b[0m\u001b[0;34m(\u001b[0m\u001b[0mindex\u001b[0m\u001b[0;34m=\u001b[0m\u001b[0mstr\u001b[0m\u001b[0;34m,\u001b[0m \u001b[0mcolumns\u001b[0m \u001b[0;34m=\u001b[0m \u001b[0;34m{\u001b[0m\u001b[0;34m\"ein\"\u001b[0m \u001b[0;34m:\u001b[0m \u001b[0;34m\"EIN\"\u001b[0m\u001b[0;34m}\u001b[0m\u001b[0;34m)\u001b[0m\u001b[0;34m[\u001b[0m\u001b[0;34m'org_nam'\u001b[0m\u001b[0;34m,\u001b[0m \u001b[0;34m'EIN'\u001b[0m\u001b[0;34m]\u001b[0m\u001b[0;34m\u001b[0m\u001b[0;34m\u001b[0m\u001b[0m\n\u001b[0m\u001b[1;32m      3\u001b[0m \u001b[0;31m#df_Old_All = df_Old_Main.rename(index=str, columns = {\"ein\" : \"EIN\"})['org_nam', 'EIN', 'FiscalYearEnd',\u001b[0m\u001b[0;34m\u001b[0m\u001b[0;34m\u001b[0m\u001b[0;34m\u001b[0m\u001b[0m\n\u001b[1;32m      4\u001b[0m \u001b[0;31m#                                                      'NTEECODE', 'government_grants',\u001b[0m\u001b[0;34m\u001b[0m\u001b[0;34m\u001b[0m\u001b[0;34m\u001b[0m\u001b[0m\n\u001b[1;32m      5\u001b[0m \u001b[0;31m#                                                      'service_revenue', 'membership_dues']\u001b[0m\u001b[0;34m\u001b[0m\u001b[0;34m\u001b[0m\u001b[0;34m\u001b[0m\u001b[0m\n",
      "\u001b[0;32m/Library/Frameworks/Python.framework/Versions/3.7/lib/python3.7/site-packages/pandas/core/frame.py\u001b[0m in \u001b[0;36m__getitem__\u001b[0;34m(self, key)\u001b[0m\n\u001b[1;32m   2915\u001b[0m             \u001b[0;32mif\u001b[0m \u001b[0mself\u001b[0m\u001b[0;34m.\u001b[0m\u001b[0mcolumns\u001b[0m\u001b[0;34m.\u001b[0m\u001b[0mnlevels\u001b[0m \u001b[0;34m>\u001b[0m \u001b[0;36m1\u001b[0m\u001b[0;34m:\u001b[0m\u001b[0;34m\u001b[0m\u001b[0;34m\u001b[0m\u001b[0m\n\u001b[1;32m   2916\u001b[0m                 \u001b[0;32mreturn\u001b[0m \u001b[0mself\u001b[0m\u001b[0;34m.\u001b[0m\u001b[0m_getitem_multilevel\u001b[0m\u001b[0;34m(\u001b[0m\u001b[0mkey\u001b[0m\u001b[0;34m)\u001b[0m\u001b[0;34m\u001b[0m\u001b[0;34m\u001b[0m\u001b[0m\n\u001b[0;32m-> 2917\u001b[0;31m             \u001b[0mindexer\u001b[0m \u001b[0;34m=\u001b[0m \u001b[0mself\u001b[0m\u001b[0;34m.\u001b[0m\u001b[0mcolumns\u001b[0m\u001b[0;34m.\u001b[0m\u001b[0mget_loc\u001b[0m\u001b[0;34m(\u001b[0m\u001b[0mkey\u001b[0m\u001b[0;34m)\u001b[0m\u001b[0;34m\u001b[0m\u001b[0;34m\u001b[0m\u001b[0m\n\u001b[0m\u001b[1;32m   2918\u001b[0m             \u001b[0;32mif\u001b[0m \u001b[0mis_integer\u001b[0m\u001b[0;34m(\u001b[0m\u001b[0mindexer\u001b[0m\u001b[0;34m)\u001b[0m\u001b[0;34m:\u001b[0m\u001b[0;34m\u001b[0m\u001b[0;34m\u001b[0m\u001b[0m\n\u001b[1;32m   2919\u001b[0m                 \u001b[0mindexer\u001b[0m \u001b[0;34m=\u001b[0m \u001b[0;34m[\u001b[0m\u001b[0mindexer\u001b[0m\u001b[0;34m]\u001b[0m\u001b[0;34m\u001b[0m\u001b[0;34m\u001b[0m\u001b[0m\n",
      "\u001b[0;32m/Library/Frameworks/Python.framework/Versions/3.7/lib/python3.7/site-packages/pandas/core/indexes/base.py\u001b[0m in \u001b[0;36mget_loc\u001b[0;34m(self, key, method, tolerance)\u001b[0m\n\u001b[1;32m   2602\u001b[0m                 \u001b[0;32mreturn\u001b[0m \u001b[0mself\u001b[0m\u001b[0;34m.\u001b[0m\u001b[0m_engine\u001b[0m\u001b[0;34m.\u001b[0m\u001b[0mget_loc\u001b[0m\u001b[0;34m(\u001b[0m\u001b[0mkey\u001b[0m\u001b[0;34m)\u001b[0m\u001b[0;34m\u001b[0m\u001b[0;34m\u001b[0m\u001b[0m\n\u001b[1;32m   2603\u001b[0m             \u001b[0;32mexcept\u001b[0m \u001b[0mKeyError\u001b[0m\u001b[0;34m:\u001b[0m\u001b[0;34m\u001b[0m\u001b[0;34m\u001b[0m\u001b[0m\n\u001b[0;32m-> 2604\u001b[0;31m                 \u001b[0;32mreturn\u001b[0m \u001b[0mself\u001b[0m\u001b[0;34m.\u001b[0m\u001b[0m_engine\u001b[0m\u001b[0;34m.\u001b[0m\u001b[0mget_loc\u001b[0m\u001b[0;34m(\u001b[0m\u001b[0mself\u001b[0m\u001b[0;34m.\u001b[0m\u001b[0m_maybe_cast_indexer\u001b[0m\u001b[0;34m(\u001b[0m\u001b[0mkey\u001b[0m\u001b[0;34m)\u001b[0m\u001b[0;34m)\u001b[0m\u001b[0;34m\u001b[0m\u001b[0;34m\u001b[0m\u001b[0m\n\u001b[0m\u001b[1;32m   2605\u001b[0m         \u001b[0mindexer\u001b[0m \u001b[0;34m=\u001b[0m \u001b[0mself\u001b[0m\u001b[0;34m.\u001b[0m\u001b[0mget_indexer\u001b[0m\u001b[0;34m(\u001b[0m\u001b[0;34m[\u001b[0m\u001b[0mkey\u001b[0m\u001b[0;34m]\u001b[0m\u001b[0;34m,\u001b[0m \u001b[0mmethod\u001b[0m\u001b[0;34m=\u001b[0m\u001b[0mmethod\u001b[0m\u001b[0;34m,\u001b[0m \u001b[0mtolerance\u001b[0m\u001b[0;34m=\u001b[0m\u001b[0mtolerance\u001b[0m\u001b[0;34m)\u001b[0m\u001b[0;34m\u001b[0m\u001b[0;34m\u001b[0m\u001b[0m\n\u001b[1;32m   2606\u001b[0m         \u001b[0;32mif\u001b[0m \u001b[0mindexer\u001b[0m\u001b[0;34m.\u001b[0m\u001b[0mndim\u001b[0m \u001b[0;34m>\u001b[0m \u001b[0;36m1\u001b[0m \u001b[0;32mor\u001b[0m \u001b[0mindexer\u001b[0m\u001b[0;34m.\u001b[0m\u001b[0msize\u001b[0m \u001b[0;34m>\u001b[0m \u001b[0;36m1\u001b[0m\u001b[0;34m:\u001b[0m\u001b[0;34m\u001b[0m\u001b[0;34m\u001b[0m\u001b[0m\n",
      "\u001b[0;32mpandas/_libs/index.pyx\u001b[0m in \u001b[0;36mpandas._libs.index.IndexEngine.get_loc\u001b[0;34m()\u001b[0m\n",
      "\u001b[0;32mpandas/_libs/index.pyx\u001b[0m in \u001b[0;36mpandas._libs.index.IndexEngine.get_loc\u001b[0;34m()\u001b[0m\n",
      "\u001b[0;32mpandas/_libs/hashtable_class_helper.pxi\u001b[0m in \u001b[0;36mpandas._libs.hashtable.PyObjectHashTable.get_item\u001b[0;34m()\u001b[0m\n",
      "\u001b[0;32mpandas/_libs/hashtable_class_helper.pxi\u001b[0m in \u001b[0;36mpandas._libs.hashtable.PyObjectHashTable.get_item\u001b[0;34m()\u001b[0m\n",
      "\u001b[0;31mKeyError\u001b[0m: ('org_nam', 'EIN')"
     ]
    }
   ],
   "source": [
    "df_PCG_All = df_PCG_Data.rename(index=str, columns = {\"Unnamed: 0\" : \"org_name\"})\n",
    "df_Old_All = df_Old_Main.rename(index=str, columns = {\"ein\" : \"EIN\"})[['org_nam', 'EIN']]\n",
    "#df_Old_All = df_Old_Main.rename(index=str, columns = {\"ein\" : \"EIN\"})['org_nam', 'EIN', 'FiscalYearEnd',\n",
    "#                                                      'NTEECODE', 'government_grants', \n",
    "#                                                      'service_revenue', 'membership_dues']"
   ]
  },
  {
   "cell_type": "code",
   "execution_count": 4,
   "metadata": {},
   "outputs": [
    {
     "ename": "KeyError",
     "evalue": "('org_nam', 'EIN', 'FiscalYearEnd', 'NTEECODE', 'government_grants', 'service_revenue', 'membership_dues')",
     "output_type": "error",
     "traceback": [
      "\u001b[0;31m---------------------------------------------------------------------------\u001b[0m",
      "\u001b[0;31mKeyError\u001b[0m                                  Traceback (most recent call last)",
      "\u001b[0;32m/Library/Frameworks/Python.framework/Versions/3.7/lib/python3.7/site-packages/pandas/core/indexes/base.py\u001b[0m in \u001b[0;36mget_loc\u001b[0;34m(self, key, method, tolerance)\u001b[0m\n\u001b[1;32m   2601\u001b[0m             \u001b[0;32mtry\u001b[0m\u001b[0;34m:\u001b[0m\u001b[0;34m\u001b[0m\u001b[0;34m\u001b[0m\u001b[0m\n\u001b[0;32m-> 2602\u001b[0;31m                 \u001b[0;32mreturn\u001b[0m \u001b[0mself\u001b[0m\u001b[0;34m.\u001b[0m\u001b[0m_engine\u001b[0m\u001b[0;34m.\u001b[0m\u001b[0mget_loc\u001b[0m\u001b[0;34m(\u001b[0m\u001b[0mkey\u001b[0m\u001b[0;34m)\u001b[0m\u001b[0;34m\u001b[0m\u001b[0;34m\u001b[0m\u001b[0m\n\u001b[0m\u001b[1;32m   2603\u001b[0m             \u001b[0;32mexcept\u001b[0m \u001b[0mKeyError\u001b[0m\u001b[0;34m:\u001b[0m\u001b[0;34m\u001b[0m\u001b[0;34m\u001b[0m\u001b[0m\n",
      "\u001b[0;32mpandas/_libs/index.pyx\u001b[0m in \u001b[0;36mpandas._libs.index.IndexEngine.get_loc\u001b[0;34m()\u001b[0m\n",
      "\u001b[0;32mpandas/_libs/index.pyx\u001b[0m in \u001b[0;36mpandas._libs.index.IndexEngine.get_loc\u001b[0;34m()\u001b[0m\n",
      "\u001b[0;32mpandas/_libs/hashtable_class_helper.pxi\u001b[0m in \u001b[0;36mpandas._libs.hashtable.PyObjectHashTable.get_item\u001b[0;34m()\u001b[0m\n",
      "\u001b[0;32mpandas/_libs/hashtable_class_helper.pxi\u001b[0m in \u001b[0;36mpandas._libs.hashtable.PyObjectHashTable.get_item\u001b[0;34m()\u001b[0m\n",
      "\u001b[0;31mKeyError\u001b[0m: ('org_nam', 'EIN', 'FiscalYearEnd', 'NTEECODE', 'government_grants', 'service_revenue', 'membership_dues')",
      "\nDuring handling of the above exception, another exception occurred:\n",
      "\u001b[0;31mKeyError\u001b[0m                                  Traceback (most recent call last)",
      "\u001b[0;32m<ipython-input-4-b0c501482de3>\u001b[0m in \u001b[0;36m<module>\u001b[0;34m\u001b[0m\n\u001b[1;32m      1\u001b[0m \u001b[0mdf_PCG_All\u001b[0m \u001b[0;34m=\u001b[0m \u001b[0mdf_PCG_Data\u001b[0m\u001b[0;34m.\u001b[0m\u001b[0mrename\u001b[0m\u001b[0;34m(\u001b[0m\u001b[0mindex\u001b[0m\u001b[0;34m=\u001b[0m\u001b[0mstr\u001b[0m\u001b[0;34m,\u001b[0m \u001b[0mcolumns\u001b[0m \u001b[0;34m=\u001b[0m \u001b[0;34m{\u001b[0m\u001b[0;34m\"Unnamed: 0\"\u001b[0m \u001b[0;34m:\u001b[0m \u001b[0;34m\"org_name\"\u001b[0m\u001b[0;34m}\u001b[0m\u001b[0;34m)\u001b[0m\u001b[0;34m\u001b[0m\u001b[0;34m\u001b[0m\u001b[0m\n\u001b[0;32m----> 2\u001b[0;31m df_Old_All = df_Old_Main.rename(index=str, columns = {\"ein\" : \"EIN\"})['org_nam', 'EIN', 'FiscalYearEnd',\n\u001b[0m\u001b[1;32m      3\u001b[0m                                                       \u001b[0;34m'NTEECODE'\u001b[0m\u001b[0;34m,\u001b[0m \u001b[0;34m'government_grants'\u001b[0m\u001b[0;34m,\u001b[0m\u001b[0;34m\u001b[0m\u001b[0;34m\u001b[0m\u001b[0m\n\u001b[1;32m      4\u001b[0m                                                       'service_revenue', 'membership_dues']\n\u001b[1;32m      5\u001b[0m \u001b[0;31m#where is: indirect_support, contributions_noncash, contributions_total, service_revenue ???\u001b[0m\u001b[0;34m\u001b[0m\u001b[0;34m\u001b[0m\u001b[0;34m\u001b[0m\u001b[0m\n",
      "\u001b[0;32m/Library/Frameworks/Python.framework/Versions/3.7/lib/python3.7/site-packages/pandas/core/frame.py\u001b[0m in \u001b[0;36m__getitem__\u001b[0;34m(self, key)\u001b[0m\n\u001b[1;32m   2915\u001b[0m             \u001b[0;32mif\u001b[0m \u001b[0mself\u001b[0m\u001b[0;34m.\u001b[0m\u001b[0mcolumns\u001b[0m\u001b[0;34m.\u001b[0m\u001b[0mnlevels\u001b[0m \u001b[0;34m>\u001b[0m \u001b[0;36m1\u001b[0m\u001b[0;34m:\u001b[0m\u001b[0;34m\u001b[0m\u001b[0;34m\u001b[0m\u001b[0m\n\u001b[1;32m   2916\u001b[0m                 \u001b[0;32mreturn\u001b[0m \u001b[0mself\u001b[0m\u001b[0;34m.\u001b[0m\u001b[0m_getitem_multilevel\u001b[0m\u001b[0;34m(\u001b[0m\u001b[0mkey\u001b[0m\u001b[0;34m)\u001b[0m\u001b[0;34m\u001b[0m\u001b[0;34m\u001b[0m\u001b[0m\n\u001b[0;32m-> 2917\u001b[0;31m             \u001b[0mindexer\u001b[0m \u001b[0;34m=\u001b[0m \u001b[0mself\u001b[0m\u001b[0;34m.\u001b[0m\u001b[0mcolumns\u001b[0m\u001b[0;34m.\u001b[0m\u001b[0mget_loc\u001b[0m\u001b[0;34m(\u001b[0m\u001b[0mkey\u001b[0m\u001b[0;34m)\u001b[0m\u001b[0;34m\u001b[0m\u001b[0;34m\u001b[0m\u001b[0m\n\u001b[0m\u001b[1;32m   2918\u001b[0m             \u001b[0;32mif\u001b[0m \u001b[0mis_integer\u001b[0m\u001b[0;34m(\u001b[0m\u001b[0mindexer\u001b[0m\u001b[0;34m)\u001b[0m\u001b[0;34m:\u001b[0m\u001b[0;34m\u001b[0m\u001b[0;34m\u001b[0m\u001b[0m\n\u001b[1;32m   2919\u001b[0m                 \u001b[0mindexer\u001b[0m \u001b[0;34m=\u001b[0m \u001b[0;34m[\u001b[0m\u001b[0mindexer\u001b[0m\u001b[0;34m]\u001b[0m\u001b[0;34m\u001b[0m\u001b[0;34m\u001b[0m\u001b[0m\n",
      "\u001b[0;32m/Library/Frameworks/Python.framework/Versions/3.7/lib/python3.7/site-packages/pandas/core/indexes/base.py\u001b[0m in \u001b[0;36mget_loc\u001b[0;34m(self, key, method, tolerance)\u001b[0m\n\u001b[1;32m   2602\u001b[0m                 \u001b[0;32mreturn\u001b[0m \u001b[0mself\u001b[0m\u001b[0;34m.\u001b[0m\u001b[0m_engine\u001b[0m\u001b[0;34m.\u001b[0m\u001b[0mget_loc\u001b[0m\u001b[0;34m(\u001b[0m\u001b[0mkey\u001b[0m\u001b[0;34m)\u001b[0m\u001b[0;34m\u001b[0m\u001b[0;34m\u001b[0m\u001b[0m\n\u001b[1;32m   2603\u001b[0m             \u001b[0;32mexcept\u001b[0m \u001b[0mKeyError\u001b[0m\u001b[0;34m:\u001b[0m\u001b[0;34m\u001b[0m\u001b[0;34m\u001b[0m\u001b[0m\n\u001b[0;32m-> 2604\u001b[0;31m                 \u001b[0;32mreturn\u001b[0m \u001b[0mself\u001b[0m\u001b[0;34m.\u001b[0m\u001b[0m_engine\u001b[0m\u001b[0;34m.\u001b[0m\u001b[0mget_loc\u001b[0m\u001b[0;34m(\u001b[0m\u001b[0mself\u001b[0m\u001b[0;34m.\u001b[0m\u001b[0m_maybe_cast_indexer\u001b[0m\u001b[0;34m(\u001b[0m\u001b[0mkey\u001b[0m\u001b[0;34m)\u001b[0m\u001b[0;34m)\u001b[0m\u001b[0;34m\u001b[0m\u001b[0;34m\u001b[0m\u001b[0m\n\u001b[0m\u001b[1;32m   2605\u001b[0m         \u001b[0mindexer\u001b[0m \u001b[0;34m=\u001b[0m \u001b[0mself\u001b[0m\u001b[0;34m.\u001b[0m\u001b[0mget_indexer\u001b[0m\u001b[0;34m(\u001b[0m\u001b[0;34m[\u001b[0m\u001b[0mkey\u001b[0m\u001b[0;34m]\u001b[0m\u001b[0;34m,\u001b[0m \u001b[0mmethod\u001b[0m\u001b[0;34m=\u001b[0m\u001b[0mmethod\u001b[0m\u001b[0;34m,\u001b[0m \u001b[0mtolerance\u001b[0m\u001b[0;34m=\u001b[0m\u001b[0mtolerance\u001b[0m\u001b[0;34m)\u001b[0m\u001b[0;34m\u001b[0m\u001b[0;34m\u001b[0m\u001b[0m\n\u001b[1;32m   2606\u001b[0m         \u001b[0;32mif\u001b[0m \u001b[0mindexer\u001b[0m\u001b[0;34m.\u001b[0m\u001b[0mndim\u001b[0m \u001b[0;34m>\u001b[0m \u001b[0;36m1\u001b[0m \u001b[0;32mor\u001b[0m \u001b[0mindexer\u001b[0m\u001b[0;34m.\u001b[0m\u001b[0msize\u001b[0m \u001b[0;34m>\u001b[0m \u001b[0;36m1\u001b[0m\u001b[0;34m:\u001b[0m\u001b[0;34m\u001b[0m\u001b[0;34m\u001b[0m\u001b[0m\n",
      "\u001b[0;32mpandas/_libs/index.pyx\u001b[0m in \u001b[0;36mpandas._libs.index.IndexEngine.get_loc\u001b[0;34m()\u001b[0m\n",
      "\u001b[0;32mpandas/_libs/index.pyx\u001b[0m in \u001b[0;36mpandas._libs.index.IndexEngine.get_loc\u001b[0;34m()\u001b[0m\n",
      "\u001b[0;32mpandas/_libs/hashtable_class_helper.pxi\u001b[0m in \u001b[0;36mpandas._libs.hashtable.PyObjectHashTable.get_item\u001b[0;34m()\u001b[0m\n",
      "\u001b[0;32mpandas/_libs/hashtable_class_helper.pxi\u001b[0m in \u001b[0;36mpandas._libs.hashtable.PyObjectHashTable.get_item\u001b[0;34m()\u001b[0m\n",
      "\u001b[0;31mKeyError\u001b[0m: ('org_nam', 'EIN', 'FiscalYearEnd', 'NTEECODE', 'government_grants', 'service_revenue', 'membership_dues')"
     ]
    }
   ],
   "source": [
    "#where is: indirect_support, contributions_noncash, contributions_total, service_revenue ???\n",
    "#there is fundraising_total and fundrasising - is one of these = fundraising on NEW FORM ???\n",
    "df_New_All = df_New_Main.rename(index=str, columns = {\"ORGNAME\" : \"org_name\"})['org_name', 'EIN', 'FiscalYearEnd', \n",
    "                                                      'NTEECODE', 'FED_CAMPAIGNS', 'MEMBERSHIP_DUES', \n",
    "                                                      'FUNDRAISING', 'RELATED_ORGS', 'GOV_GRANTS', 'CONTRIB_OTHER', \n",
    "                                                      'CONTRIB_NONCASH', 'CONTRIB_ALL', 'SERVICE_REVENUE']"
   ]
  },
  {
   "cell_type": "code",
   "execution_count": 10,
   "metadata": {},
   "outputs": [],
   "source": [
    "df_New_Main_EIN = df_New_Main_EIN.drop_duplicates()\n",
    "df_Old_Main_EIN = df_Old_Main_EIN.drop_duplicates()"
   ]
  },
  {
   "cell_type": "code",
   "execution_count": 7,
   "metadata": {},
   "outputs": [
    {
     "data": {
      "text/plain": [
       "604"
      ]
     },
     "execution_count": 7,
     "metadata": {},
     "output_type": "execute_result"
    }
   ],
   "source": [
    "df_PCG_Data_EIN.nunique()"
   ]
  },
  {
   "cell_type": "code",
   "execution_count": 10,
   "metadata": {},
   "outputs": [
    {
     "data": {
      "text/plain": [
       "23-7394620    12\n",
       "92-0155067    11\n",
       "92-0152088     3\n",
       "92-6001185     2\n",
       "92-0165283     1\n",
       "92-0112629     1\n",
       "92-0137107     1\n",
       "92-0178028     1\n",
       "61-1601701     1\n",
       "92-0043154     1\n",
       "92-0109160     1\n",
       "20-2913418     1\n",
       "92-0090470     1\n",
       "74-3099527     1\n",
       "92-0149995     1\n",
       "92-0073406     1\n",
       "92-0104683     1\n",
       "92-0124517     1\n",
       "92-0037322     1\n",
       "92-0109661     1\n",
       "92-0108817     1\n",
       "13-1665552     1\n",
       "92-0058054     1\n",
       "92-0136891     1\n",
       "87-0761624     1\n",
       "26-3251948     1\n",
       "92-0155751     1\n",
       "32-0487035     1\n",
       "92-0144370     1\n",
       "92-0047965     1\n",
       "              ..\n",
       "23-7189644     1\n",
       "92-0115504     1\n",
       "92-0152121     1\n",
       "81-0762804     1\n",
       "92-6002302     1\n",
       "92-0028571     1\n",
       "23-7394629     1\n",
       "92-0123380     1\n",
       "92-0167038     1\n",
       "92-0036594     1\n",
       "92-0070127     1\n",
       "92-0088380     1\n",
       "92-0176932     1\n",
       "20-2713587     1\n",
       "94-3082137     1\n",
       "53-0242652     1\n",
       "92-0071466     1\n",
       "73-1628436     1\n",
       "46-1672915     1\n",
       "92-0148627     1\n",
       "20-3410636     1\n",
       "31-1776563     1\n",
       "92-0176309     1\n",
       "47-1960599     1\n",
       "20-2860877     1\n",
       "92-0082642     1\n",
       "26-1832485     1\n",
       "92-0163845     1\n",
       "13-3419755     1\n",
       "46-1580461     1\n",
       "Name: EIN, Length: 604, dtype: int64"
      ]
     },
     "execution_count": 10,
     "metadata": {},
     "output_type": "execute_result"
    }
   ],
   "source": [
    "df_PCG_Data_EIN.value_counts()"
   ]
  },
  {
   "cell_type": "code",
   "execution_count": 12,
   "metadata": {},
   "outputs": [
    {
     "data": {
      "text/plain": [
       "6786"
      ]
     },
     "execution_count": 12,
     "metadata": {},
     "output_type": "execute_result"
    }
   ],
   "source": [
    "df_New_Main_EIN.nunique()"
   ]
  },
  {
   "cell_type": "code",
   "execution_count": 14,
   "metadata": {},
   "outputs": [
    {
     "data": {
      "text/plain": [
       "7695"
      ]
     },
     "execution_count": 14,
     "metadata": {},
     "output_type": "execute_result"
    }
   ],
   "source": [
    "df_Old_Main_EIN.nunique()"
   ]
  },
  {
   "cell_type": "code",
   "execution_count": 16,
   "metadata": {},
   "outputs": [],
   "source": [
    "df_Old_Main_EIN.sort_values(inplace = True)"
   ]
  },
  {
   "cell_type": "code",
   "execution_count": null,
   "metadata": {},
   "outputs": [],
   "source": []
  },
  {
   "cell_type": "code",
   "execution_count": null,
   "metadata": {},
   "outputs": [],
   "source": []
  },
  {
   "cell_type": "code",
   "execution_count": 17,
   "metadata": {},
   "outputs": [
    {
     "data": {
      "text/plain": [
       "4437"
      ]
     },
     "execution_count": 17,
     "metadata": {},
     "output_type": "execute_result"
    }
   ],
   "source": [
    "#in both old and new\n",
    "pd.merge(df_Old_Main_EIN, df_New_Main_EIN, how='inner', on=['EIN']).size"
   ]
  },
  {
   "cell_type": "code",
   "execution_count": 18,
   "metadata": {},
   "outputs": [
    {
     "data": {
      "text/plain": [
       "356"
      ]
     },
     "execution_count": 18,
     "metadata": {},
     "output_type": "execute_result"
    }
   ],
   "source": [
    "#in both pcg and old\n",
    "pd.merge(df_PCG_Data_EIN, df_Old_Main_EIN, how='inner', on=['EIN']).size"
   ]
  },
  {
   "cell_type": "code",
   "execution_count": 19,
   "metadata": {},
   "outputs": [
    {
     "data": {
      "text/plain": [
       "382"
      ]
     },
     "execution_count": 19,
     "metadata": {},
     "output_type": "execute_result"
    }
   ],
   "source": [
    "#in both pcg and new\n",
    "pd.merge(df_PCG_Data_EIN, df_New_Main_EIN, how='inner', on=['EIN']).size"
   ]
  },
  {
   "cell_type": "code",
   "execution_count": 102,
   "metadata": {},
   "outputs": [
    {
     "data": {
      "text/plain": [
       "27467                      12STEPSFORCHRISTIANLIVINGCENTER\n",
       "20780                             1STUNITEDCHARITABLETRUST\n",
       "345                                 1STWAYOFMARICOPACOUNTY\n",
       "9311                2001SPECIALOLYMPICSWORLDWINTERGAMESINC\n",
       "14622      2007040809000229IAGLENDALELODGENO2243LOYALORDER\n",
       "9780                  20070803153000029IBMESAMONTESSORIINC\n",
       "20881                              260CLUBOFGREENVALLEYINC\n",
       "36368    29IBCQ920133751200312GENERALTEAMSTERSLOCAL959J...\n",
       "22816                         2NDADVENTBROADCASTINGNETWORK\n",
       "24129                              3DIMENSIONMINISTRIESINC\n",
       "10264                            3HOFOUNDATIONOFARIZONAINC\n",
       "8939                4020111SIMONIANLITTLELEAGUEBASEBALLINC\n",
       "23190    4HCLUBMOHAVECOUNTY4HLEADERSCOUNCILNIASTATECOUNCIL\n",
       "26896                                  4HCLUBSAFFILIATED4H\n",
       "28523            4HCLUBSAFFILIATED4HSHAMROCKHUSTLERS4HCLUB\n",
       "17876                4HCLUBSANDAFFILIATED4HYAVAPAICOUNTY4H\n",
       "32138                           51STAVEFRIENDSHIPCENTERINC\n",
       "26464           60BUILDERSLODGEFREEACCEPTEDMASONSOFARIZONA\n",
       "23445                                      AASCHOUSING1INC\n",
       "3009                 AASKAIDTOADOPTIONOFSPECIALKIDSARIZONA\n",
       "34546                                    AATSEELOFTHEUSINC\n",
       "12338                            ABBOTTORABBITLITTLELEAGUE\n",
       "10630                         ABCALTERNATIVELEARNINGCENTER\n",
       "10629                      ABCALTERNATIVELEARNINGCENTERINC\n",
       "25408                     ABETTERWAYOFLIFETRANSITIONALHOME\n",
       "612                                           ABOUTCAREINC\n",
       "9437                            ABOVEANDBEYONDCHILDCAREINC\n",
       "31782                           ABOVETHELINEASSOCIATIONINC\n",
       "27117                           ABUNDANTHEARTMINISTRIESINC\n",
       "10049                                      ABUNDANTLIFEINC\n",
       "                               ...                        \n",
       "18435     YUMACOFAMILYADVOCACYCOALITIONINCAKAAMBERLYSPLACE\n",
       "17309                             YUMACOMMUNITYFOODBANKINC\n",
       "20002                              YUMACOMMUNITYTHEATERINC\n",
       "24179                            YUMACONSERVATIONGARDENINC\n",
       "5172                            YUMACOUNTYHUMANESOCIETYINC\n",
       "14632          YUMACROSSINGNATIONALHERITAGEAREACORPORATION\n",
       "17101                              YUMAFINEARTSASSOCIATION\n",
       "32513                                    YUMAMAINSTREETINC\n",
       "29939                       YUMANEIGHBORHOODDEVELOPMENTORG\n",
       "12875                                        YUMAPOPWARNER\n",
       "12707               YUMAPRIVATEINDUSTRYCOUNCILINCORPORATED\n",
       "18675                                   YUMAREADINGCOUNCIL\n",
       "14562                                        YUMATENNISINC\n",
       "33632                                YUMAWOMENSBOWLINGASSN\n",
       "35541                                    YUMAWORCCENTERINC\n",
       "28051                                       YUMAYOUTHCHOIR\n",
       "7350                            YUMAYOUTHSOCCERASSOCIATION\n",
       "19244                       YUUTELITNAURVIATPEOPLESLEAMING\n",
       "32629                                      YWAMARCTICMERCY\n",
       "2079                                  YWCAOFMARICOPACOUNTY\n",
       "22253                             ZACHGORDONTEENAQECLUBINC\n",
       "60                                 ZANEGREYCABINFOUNDATION\n",
       "15772                        ZETAOMICRONSIGMAKAPPASORORITY\n",
       "30735                                      ZETETICINSTITUE\n",
       "30733                                     ZETETICINSTITUTE\n",
       "35511                                      ZIAATHELTICCLUB\n",
       "18126                                           ZOLAPWHITE\n",
       "18127                                     ZOLAPWHITE323410\n",
       "23886                             ZUNICOMMUNITYASSOCIATION\n",
       "30888                                                 ZUZI\n",
       "Name: org_name, Length: 6887, dtype: object"
      ]
     },
     "execution_count": 102,
     "metadata": {},
     "output_type": "execute_result"
    }
   ],
   "source": [
    "#in old but not new\n",
    "df_Old_Main_Names[~df_Old_Main_Names.isin(df_New_Main_Names)].dropna().sort_values()"
   ]
  },
  {
   "cell_type": "code",
   "execution_count": 101,
   "metadata": {},
   "outputs": [
    {
     "data": {
      "text/plain": [
       "5936                                       0031GREERDEWITT\n",
       "4786                                           0BKCLASSINC\n",
       "4078                                          0CONNORHOUSE\n",
       "3216                               1010INTERNATIONALNETINC\n",
       "7035                                     1111ISRAELROADLLC\n",
       "6916                                1973NORTHRULONWHITELLC\n",
       "4562                               1STRATE2NDHANDTHRIFTINC\n",
       "23707                   2618COMMERCIALDRINVESTMENTGROUPLLC\n",
       "6844                                             2DARESCUE\n",
       "6535                                      32NDSTLEGACYFUND\n",
       "5974                                            3SISSYVEBA\n",
       "27588                                           408VOITURE\n",
       "27584                                       408VOITURE1539\n",
       "28572                          4KHISTORILALPVBLICATIONASSN\n",
       "6722                                       4MATIFOUNDATION\n",
       "5324                                            4TUCSONINC\n",
       "24221                                 610GREATALASKACOUNAL\n",
       "24222                                610GREATALASKACOUNCIL\n",
       "6789                            610GREATALASKACOUNCILTRUST\n",
       "6793     610GREATALASKACOUNCILTRUSTC0FIRSTNATIONALBANKA...\n",
       "10003                                           AAONMSANCI\n",
       "1853                                         AASCHOUSINGII\n",
       "1856                             AASCHOUSINGIIINCORPORATED\n",
       "2663        AASCOTTISHRITEOFFREEMASONRYSJVALLEYOFANCHORAGE\n",
       "29941                                  ABAAGCEDUCATIONFUND\n",
       "17911                            ABAANZONABUILDERSALLIANCE\n",
       "18462                                     ABAFOUNDATIONINC\n",
       "26474                                     ABATEOFALASKSINC\n",
       "3791                                        ABBYSANGELRIDE\n",
       "3790                                     ABBYSANGELRIDEINC\n",
       "                               ...                        \n",
       "26639                           YUKONGUESTINTERNATIONALLTD\n",
       "5788             YUKONKOYUKUKELDERASSISTEDLIVINGCONSORTIUM\n",
       "5623                      YUKONKUSKOKWIMCOASTALASSOCIATION\n",
       "24823              YUKONKUSKOKWIMHEALTHCORPORATIONPOBOX528\n",
       "27500               YUKONRIVERDRAINAGEFISHERIESASSOCIATION\n",
       "12426                           YUMAAREAHOUSINGOPPORTUNITY\n",
       "30573                       YUMABALLETTHEATREANDPERFORMING\n",
       "14425                                YUMACOMMUNITYFOODBANK\n",
       "10199                          YUMACOUNTYCHAMBEROFCOMMERCE\n",
       "10414                                 YUMACOUNTYFARMBUREAU\n",
       "9415                      YUMACROSSINGNATIONALHERITAGEAREA\n",
       "9418            YUMACROSSINGNATIONALHERITAGEAREAAHIAIUAREA\n",
       "22904                        YUMAFRESHVEGETABLEASSOCIATION\n",
       "11411                               YUMAGOLFANGCOUNTRYCLUB\n",
       "9791                                        YUMAROTARYCLUB\n",
       "7157               YUMASEDUCATIONSCHOAIRSHIPFUNDFORKIDSINC\n",
       "7156               YUMASEDUCATIONSCHOLARSHIPFUNDLORKIDSINC\n",
       "6                      YUMASOUTHWESTCONTRACTORSASSOCIATION\n",
       "9134                           YUMATERNTORYLIVESTEAMERSINC\n",
       "9132                          YUMATERRITORYLIVESTEAMERSINC\n",
       "10917                                 YUMATRAPSKEETCLUBINC\n",
       "3933                                  YUPIKWOMENSCOALITION\n",
       "6802                  YUUTELITNAURVIATPEOPLESLEAMINGCENTER\n",
       "22370                                    YUUTYAQUNGVIATLLC\n",
       "27392                                           YWCAALASKA\n",
       "27394                                         YWCAOFALASKA\n",
       "10650                                YWCAOFSOUTHERNARIZONA\n",
       "12670                   ZANMCABLECOMMUNICATIONSASSOCIATION\n",
       "2058             ZENDERENVIRONMENTALHEALTHANDRESEARCHGROUP\n",
       "20195                                      ZIAATHLETICCLUC\n",
       "Name: org_name, Length: 5056, dtype: object"
      ]
     },
     "execution_count": 101,
     "metadata": {},
     "output_type": "execute_result"
    }
   ],
   "source": [
    "#in new but not old\n",
    "df_New_Main_Names[~df_New_Main_Names.isin(df_Old_Main_Names)].dropna().sort_values()"
   ]
  },
  {
   "cell_type": "code",
   "execution_count": null,
   "metadata": {},
   "outputs": [],
   "source": []
  }
 ],
 "metadata": {
  "kernelspec": {
   "display_name": "Python 3",
   "language": "python",
   "name": "python3"
  },
  "language_info": {
   "codemirror_mode": {
    "name": "ipython",
    "version": 3
   },
   "file_extension": ".py",
   "mimetype": "text/x-python",
   "name": "python",
   "nbconvert_exporter": "python",
   "pygments_lexer": "ipython3",
   "version": "3.7.2"
  }
 },
 "nbformat": 4,
 "nbformat_minor": 2
}

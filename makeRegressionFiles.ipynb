{
 "cells": [
  {
   "cell_type": "code",
   "execution_count": 17,
   "metadata": {},
   "outputs": [],
   "source": [
    "import numpy as np\n",
    "import pandas as pd\n",
    "from linearmodels import PanelOLS\n",
    "import statsmodels.api as sm\n",
    "from scipy import stats"
   ]
  },
  {
   "cell_type": "code",
   "execution_count": 18,
   "metadata": {},
   "outputs": [],
   "source": [
    "df_New_Main = pd.read_excel('TAMU_NewForm_Main_20170817.xlsx')\n",
    "df_Old_Main = pd.read_excel('TAMU_OldForm_Main_20170817.xlsx')\n",
    "df_PCG_Data = pd.read_csv('PCG_Donor_Data2.csv')"
   ]
  },
  {
   "cell_type": "code",
   "execution_count": 19,
   "metadata": {},
   "outputs": [],
   "source": [
    "#do all renaming here\n",
    "df_PCG_All = df_PCG_Data.rename(index=str, columns = {\"Unnamed: 0\" : \"org_name\"})\n",
    "df_Old_All = df_Old_Main.rename(index=str, columns = {\"ein\" : \"EIN\"})[['org_name', 'EIN', 'FiscalYearEnd',\n",
    "                                                      'NTEECODE', 'government_grants', \n",
    "                                                      'service_revenue', 'membership_dues', 'fundraising']]\n",
    "df_New_All = df_New_Main.rename(index=str, columns = {\"ORGNAME\" : \"org_name\"})[['org_name', 'EIN', 'FiscalYearEnd', \n",
    "                                                      'NTEECODE', 'FED_CAMPAIGNS', 'MEMBERSHIP_DUES', \n",
    "                                                      'TOTAL_FUNDRAISING', 'RELATED_ORGS', 'GOV_GRANTS', 'CONTRIB_OTHER', \n",
    "                                                      'CONTRIB_NONCASH', 'CONTRIB_ALL', 'SERVICE_REVENUE']].rename(index=str, columns = {\"MEMBERSHIP_DUES\" : \"membership_dues\", \n",
    "                                                                           \"GOV_GRANTS\" : \"government_grants\", \n",
    "                                                                           \"SERVICE_REVENUE\" : \"service_revenue\", \"TOTAL_FUNDRAISING\" : \"fundraising\"})"
   ]
  },
  {
   "cell_type": "code",
   "execution_count": 20,
   "metadata": {},
   "outputs": [],
   "source": [
    "#aggregate summing of repeated EINs\n",
    "df_PCG_All.loc[df_PCG_All['EIN'] == '23-7394620', 'org_name'] = 'University of Alaska'\n",
    "df_PCG_All.loc[df_PCG_All['EIN'] == '92-0155067', 'org_name'] = 'Alaska Community Foundation'\n",
    "df_PCG_All.loc[df_PCG_All['EIN'] == '92-0152088', 'org_name'] = 'Alaska Medical Missions CHA'\n",
    "df_PCG_All.loc[df_PCG_All['EIN'] == '92-6001185', 'org_name'] = 'Crime Victim Compensation Fund'\n",
    "df_PCG_All = df_PCG_All.groupby(['EIN','org_name'], as_index = False).sum()\n",
    "#grouped so each EIN appears 1 time\n",
    "#604 unique organizations by EIN (df_PCG_All['EIN'].nunique())"
   ]
  },
  {
   "cell_type": "code",
   "execution_count": 21,
   "metadata": {},
   "outputs": [],
   "source": [
    "#new is 2007 - 2015\n",
    "#old is 1998 - 2008\n",
    "df_New_reg = df_New_All[['EIN', 'FiscalYearEnd', 'membership_dues', \n",
    "                                    'government_grants', 'service_revenue', 'fundraising']].fillna(0)\n",
    "df_Old_reg = df_Old_All[['EIN', 'FiscalYearEnd', 'membership_dues', \n",
    "                                    'government_grants', 'service_revenue', 'fundraising']].fillna(0)"
   ]
  },
  {
   "cell_type": "code",
   "execution_count": 22,
   "metadata": {},
   "outputs": [],
   "source": [
    "#invert PCG data\n",
    "df_vert_PCG = pd.melt(df_PCG_All, id_vars=['EIN', 'org_name'], value_vars=['2009','2010','2011','2012','2013',\n",
    "                                    '2014','2015','2016','2017','2018'], var_name = 'Year', value_name = 'Raised')"
   ]
  },
  {
   "cell_type": "code",
   "execution_count": 23,
   "metadata": {},
   "outputs": [],
   "source": [
    "#assume year started is min year where raised > 0\n",
    "df_PCG_NOZERO = df_vert_PCG[df_vert_PCG['Raised'] != 0]\n",
    "df_PCG_Start = df_PCG_NOZERO.groupby('EIN', as_index=False)['Year'].min().rename(index=str, columns = {\"Year\": \"PCGStartYear\"})"
   ]
  },
  {
   "cell_type": "code",
   "execution_count": 24,
   "metadata": {},
   "outputs": [],
   "source": [
    "#add the old and new together\n",
    "df_reg = pd.concat([df_New_reg, df_Old_reg], ignore_index = True)"
   ]
  },
  {
   "cell_type": "code",
   "execution_count": 26,
   "metadata": {},
   "outputs": [],
   "source": [
    "#adding TREATMENT dummy\n",
    "df_reg['PCG_Treatment'] = df_reg['EIN'].isin(df_PCG_Start['EIN']).astype(int)\n",
    "df_reg_PCGStart = df_reg.merge(df_PCG_Start, on = 'EIN', how='left').fillna(0)\n",
    "#make sure int\n",
    "df_reg_PCGStart['PCGStartYear'] = df_reg_PCGStart['PCGStartYear'].astype(int)"
   ]
  },
  {
   "cell_type": "code",
   "execution_count": 30,
   "metadata": {},
   "outputs": [],
   "source": [
    "df_PCG_Raised = df_vert_PCG[['EIN', 'Year', 'Raised']].rename(index=str,columns={\"Year\" : \"FiscalYearEnd\"})\n",
    "df_reg_PCGStart['FiscalYearEnd'] = df_reg_PCGStart['FiscalYearEnd'].astype(int)\n",
    "df_PCG_Raised['FiscalYearEnd'] = df_PCG_Raised['FiscalYearEnd'].astype(int)\n",
    "df_reg_Raised = pd.merge(df_reg_PCGStart,df_PCG_Raised, on = ['EIN', 'FiscalYearEnd'], how = 'left').fillna(0)"
   ]
  },
  {
   "cell_type": "code",
   "execution_count": null,
   "metadata": {},
   "outputs": [],
   "source": []
  },
  {
   "cell_type": "code",
   "execution_count": 41,
   "metadata": {},
   "outputs": [],
   "source": [
    "#add the POST_TREATMENT dummy\n",
    "df_reg_Raised['PostTreatment'] = 0\n",
    "#want to do anything about mid year ends???? below (some pcg donations may come after midyear fiscal end)\n",
    "#if not in treatment - post_treatment is 1 if year after 2008\n",
    "df_reg_Raised.loc[df_reg_Raised['PCG_Treatment'] == False, 'PostTreatment'] = \\\n",
    "                                    (df_reg_Raised['FiscalYearEnd'] > 2008).astype(int)\n",
    "#if in treatment - post_treatment is 1 if year on/after PCGStartYear\n",
    "df_reg_Raised.loc[df_reg_Raised['PCG_Treatment'] == True, 'PostTreatment'] = \\\n",
    "                                    (df_reg_Raised['FiscalYearEnd'] >= df_reg_Raised['PCGStartYear']).astype(int)\n",
    "#NOW POSTTREATMENT IS CORRECT AND PCG_TREATMENT IS CORRECT"
   ]
  },
  {
   "cell_type": "code",
   "execution_count": 42,
   "metadata": {},
   "outputs": [],
   "source": [
    "#add columns for depvar and interaction\n",
    "df_reg_Raised['total_donations'] = df_reg_Raised['membership_dues'] + \\\n",
    "                                     df_reg_Raised['government_grants'] + df_reg_Raised['service_revenue']\n",
    "df_reg_Raised['total_donations_NO_GG'] = df_reg_Raised['membership_dues'] + \\\n",
    "                                           df_reg_Raised['service_revenue']\n",
    "df_reg_Raised['PostTreatment*PCG_Treatment'] = df_reg_Raised['PostTreatment'] * df_reg_Raised['PCG_Treatment']"
   ]
  },
  {
   "cell_type": "code",
   "execution_count": 43,
   "metadata": {},
   "outputs": [],
   "source": [
    "df_reg_Raised.to_csv('InitialRegressionData.csv')"
   ]
  },
  {
   "cell_type": "code",
   "execution_count": 15,
   "metadata": {},
   "outputs": [
    {
     "data": {
      "text/plain": [
       "EIN                   object\n",
       "FiscalYearEnd          int64\n",
       "membership_dues      float64\n",
       "government_grants    float64\n",
       "service_revenue      float64\n",
       "fundraising          float64\n",
       "PCG_Treatment          int64\n",
       "dtype: object"
      ]
     },
     "execution_count": 15,
     "metadata": {},
     "output_type": "execute_result"
    }
   ],
   "source": [
    "df_reg.dtypes"
   ]
  },
  {
   "cell_type": "code",
   "execution_count": 16,
   "metadata": {},
   "outputs": [
    {
     "data": {
      "text/plain": [
       "EIN             object\n",
       "PCGStartYear    object\n",
       "dtype: object"
      ]
     },
     "execution_count": 16,
     "metadata": {},
     "output_type": "execute_result"
    }
   ],
   "source": [
    "df_PCG_Start.dtypes"
   ]
  },
  {
   "cell_type": "code",
   "execution_count": null,
   "metadata": {},
   "outputs": [],
   "source": []
  },
  {
   "cell_type": "code",
   "execution_count": null,
   "metadata": {},
   "outputs": [],
   "source": []
  }
 ],
 "metadata": {
  "kernelspec": {
   "display_name": "Python 3",
   "language": "python",
   "name": "python3"
  },
  "language_info": {
   "codemirror_mode": {
    "name": "ipython",
    "version": 3
   },
   "file_extension": ".py",
   "mimetype": "text/x-python",
   "name": "python",
   "nbconvert_exporter": "python",
   "pygments_lexer": "ipython3",
   "version": "3.7.2"
  }
 },
 "nbformat": 4,
 "nbformat_minor": 2
}

{
 "cells": [
  {
   "cell_type": "code",
   "execution_count": 1,
   "metadata": {},
   "outputs": [],
   "source": [
    "import numpy as np\n",
    "import pandas as pd\n",
    "from linearmodels import PanelOLS\n",
    "import statsmodels.api as sm\n",
    "from scipy import stats"
   ]
  },
  {
   "cell_type": "code",
   "execution_count": 2,
   "metadata": {},
   "outputs": [],
   "source": [
    "df_New_Main = pd.read_excel('TAMU_NewForm_Main_20170817.xlsx')\n",
    "df_Old_Main = pd.read_excel('TAMU_OldForm_Main_20170817.xlsx')\n",
    "df_PCG_Data = pd.read_csv('PCG_Donor_Data2.csv')"
   ]
  },
  {
   "cell_type": "code",
   "execution_count": 3,
   "metadata": {},
   "outputs": [],
   "source": [
    "#do all renaming here\n",
    "df_PCG_All = df_PCG_Data.rename(index=str, columns = {\"Unnamed: 0\" : \"org_name\"})\n",
    "df_Old_All = df_Old_Main.rename(index=str, columns = {\"ein\" : \"EIN\"})[['org_name', 'EIN', 'FiscalYearEnd',\n",
    "                                                      'NTEECODE', 'government_grants', \n",
    "                                                      'service_revenue', 'membership_dues', 'fundraising']]\n",
    "df_New_All = df_New_Main.rename(index=str, columns = {\"ORGNAME\" : \"org_name\"})[['org_name', 'EIN', 'FiscalYearEnd', \n",
    "                                                      'NTEECODE', 'FED_CAMPAIGNS', 'MEMBERSHIP_DUES', \n",
    "                                                      'TOTAL_FUNDRAISING', 'RELATED_ORGS', 'GOV_GRANTS', 'CONTRIB_OTHER', \n",
    "                                                      'CONTRIB_NONCASH', 'CONTRIB_ALL', 'SERVICE_REVENUE']].rename(index=str, columns = {\"MEMBERSHIP_DUES\" : \"membership_dues\", \n",
    "                                                                           \"GOV_GRANTS\" : \"government_grants\", \n",
    "                                                                           \"SERVICE_REVENUE\" : \"service_revenue\", \"TOTAL_FUNDRAISING\" : \"fundraising\"})"
   ]
  },
  {
   "cell_type": "code",
   "execution_count": 4,
   "metadata": {},
   "outputs": [],
   "source": [
    "#aggregate summing of repeated EINs\n",
    "df_PCG_All.loc[df_PCG_All['EIN'] == '23-7394620', 'org_name'] = 'University of Alaska'\n",
    "df_PCG_All.loc[df_PCG_All['EIN'] == '92-0155067', 'org_name'] = 'Alaska Community Foundation'\n",
    "df_PCG_All.loc[df_PCG_All['EIN'] == '92-0152088', 'org_name'] = 'Alaska Medical Missions CHA'\n",
    "df_PCG_All.loc[df_PCG_All['EIN'] == '92-6001185', 'org_name'] = 'Crime Victim Compensation Fund'\n",
    "df_PCG_All = df_PCG_All.groupby(['EIN','org_name'], as_index = False).sum()\n",
    "#grouped so each EIN appears 1 time\n",
    "#604 unique organizations by EIN (df_PCG_All['EIN'].nunique())"
   ]
  },
  {
   "cell_type": "code",
   "execution_count": 5,
   "metadata": {},
   "outputs": [],
   "source": [
    "#new is 2007 - 2015\n",
    "#old is 1998 - 2008\n",
    "df_New_reg = df_New_All[['EIN', 'FiscalYearEnd', 'membership_dues', \n",
    "                                    'government_grants', 'service_revenue', 'fundraising']].fillna(0)\n",
    "df_Old_reg = df_Old_All[['EIN', 'FiscalYearEnd', 'membership_dues', \n",
    "                                    'government_grants', 'service_revenue', 'fundraising']].fillna(0)"
   ]
  },
  {
   "cell_type": "code",
   "execution_count": 6,
   "metadata": {},
   "outputs": [],
   "source": [
    "#invert PCG data\n",
    "df_vert_PCG = pd.melt(df_PCG_All, id_vars=['EIN', 'org_name'], value_vars=['2009','2010','2011','2012','2013',\n",
    "                                    '2014','2015','2016','2017','2018'], var_name = 'Year', value_name = 'Raised')"
   ]
  },
  {
   "cell_type": "code",
   "execution_count": 7,
   "metadata": {},
   "outputs": [],
   "source": [
    "#assume year started is min year where raised > 0\n",
    "df_PCG_NOZERO = df_vert_PCG[df_vert_PCG['Raised'] != 0]\n",
    "df_PCG_Start = df_PCG_NOZERO.groupby('EIN', as_index=False)['Year'].min().rename(index=str, columns = {\"Year\": \"PCGStartYear\"})"
   ]
  },
  {
   "cell_type": "code",
   "execution_count": 8,
   "metadata": {},
   "outputs": [
    {
     "data": {
      "text/html": [
       "<div>\n",
       "<style scoped>\n",
       "    .dataframe tbody tr th:only-of-type {\n",
       "        vertical-align: middle;\n",
       "    }\n",
       "\n",
       "    .dataframe tbody tr th {\n",
       "        vertical-align: top;\n",
       "    }\n",
       "\n",
       "    .dataframe thead th {\n",
       "        text-align: right;\n",
       "    }\n",
       "</style>\n",
       "<table border=\"1\" class=\"dataframe\">\n",
       "  <thead>\n",
       "    <tr style=\"text-align: right;\">\n",
       "      <th></th>\n",
       "      <th>EIN</th>\n",
       "      <th>PCGStartYear</th>\n",
       "    </tr>\n",
       "  </thead>\n",
       "  <tbody>\n",
       "    <tr>\n",
       "      <th>0</th>\n",
       "      <td>03-0382080</td>\n",
       "      <td>2011</td>\n",
       "    </tr>\n",
       "    <tr>\n",
       "      <th>1</th>\n",
       "      <td>03-0400265</td>\n",
       "      <td>2014</td>\n",
       "    </tr>\n",
       "    <tr>\n",
       "      <th>2</th>\n",
       "      <td>05-0591944</td>\n",
       "      <td>2009</td>\n",
       "    </tr>\n",
       "  </tbody>\n",
       "</table>\n",
       "</div>"
      ],
      "text/plain": [
       "          EIN PCGStartYear\n",
       "0  03-0382080         2011\n",
       "1  03-0400265         2014\n",
       "2  05-0591944         2009"
      ]
     },
     "execution_count": 8,
     "metadata": {},
     "output_type": "execute_result"
    }
   ],
   "source": [
    "df_PCG_Start.head(3)"
   ]
  },
  {
   "cell_type": "code",
   "execution_count": 9,
   "metadata": {},
   "outputs": [],
   "source": [
    "#add the old and new together\n",
    "df_reg = pd.concat([df_New_reg, df_Old_reg], ignore_index = True)"
   ]
  },
  {
   "cell_type": "code",
   "execution_count": 10,
   "metadata": {},
   "outputs": [],
   "source": [
    "#adding TREATMENT dummy\n",
    "df_reg['PCG_Treatment'] = df_reg['EIN'].isin(df_PCG_Start['EIN']).astype(int)\n",
    "df_reg_PCGStart = df_reg.merge(df_PCG_Start, on = 'EIN', how='left').fillna(0)\n",
    "#make sure int\n",
    "df_reg_PCGStart['PCGStartYear'] = df_reg_PCGStart['PCGStartYear'].astype(int)"
   ]
  },
  {
   "cell_type": "code",
   "execution_count": 11,
   "metadata": {},
   "outputs": [],
   "source": [
    "#add the POST_TREATMENT dummy\n",
    "df_reg_PCGStart['PostTreatment'] = 0\n",
    "#want to do anything about mid year ends???? below (some pcg donations may come after midyear fiscal end)\n",
    "#if not in treatment - post_treatment is 1 if year after 2008\n",
    "df_reg_PCGStart.loc[df_reg_PCGStart['PCG_Treatment'] == False, 'PostTreatment'] = \\\n",
    "                                    (df_reg_PCGStart['FiscalYearEnd'] > 2008).astype(int)\n",
    "#if in treatment - post_treatment is 1 if year on/after PCGStartYear\n",
    "df_reg_PCGStart.loc[df_reg_PCGStart['PCG_Treatment'] == True, 'PostTreatment'] = \\\n",
    "                                    (df_reg_PCGStart['FiscalYearEnd'] >= df_reg_PCGStart['PCGStartYear']).astype(int)\n",
    "#NOW POSTTREATMENT IS CORRECT AND PCG_TREATMENT IS CORRECT"
   ]
  },
  {
   "cell_type": "code",
   "execution_count": 12,
   "metadata": {},
   "outputs": [],
   "source": [
    "#add columns for depvar and interaction\n",
    "df_reg_PCGStart['total_donations'] = df_reg_PCGStart['membership_dues'] + \\\n",
    "                                     df_reg_PCGStart['government_grants'] + df_reg_PCGStart['service_revenue']\n",
    "df_reg_PCGStart['total_donations_NO_GG'] = df_reg_PCGStart['membership_dues'] + \\\n",
    "                                           df_reg_PCGStart['service_revenue']\n",
    "df_reg_PCGStart['PostTreatment*PCG_Treatment'] = df_reg_PCGStart['PostTreatment'] * df_reg_PCGStart['PCG_Treatment']"
   ]
  },
  {
   "cell_type": "code",
   "execution_count": 13,
   "metadata": {},
   "outputs": [],
   "source": [
    "#Add giving via pcg\n",
    "df_PCG_Raised = df_vert_PCG[['EIN', 'Year', 'Raised']].rename(index=str,columns={\"Year\" : \"FiscalYearEnd\"})\n",
    "df_reg_PCGStart['FiscalYearEnd'] = df_reg_PCGStart['FiscalYearEnd'].astype(int)\n",
    "df_PCG_Raised['FiscalYearEnd'] = df_PCG_Raised['FiscalYearEnd'].astype(int)\n",
    "df_reg_Raised = pd.merge(df_reg_PCGStart,df_PCG_Raised, on = ['EIN', 'FiscalYearEnd'], how = 'left').fillna(0)"
   ]
  },
  {
   "cell_type": "code",
   "execution_count": 15,
   "metadata": {},
   "outputs": [],
   "source": [
    "#drop EIN if has 0 total donations for all years*****\n",
    "#df_reg_Raised = df_reg_Raised.groupby(['EIN'],as_index = False).filter(lambda x: x['total_donations'].sum() != 0)\n",
    "#not sure I want to do this before checking if EIN has all years\n",
    "#  ********\n",
    "#  was originally != 0 instead of between 250k and 10mil\n",
    "# more than 0 less than a mil interaction is sig\n",
    "#df_reg_Raised = df_reg_Raised[(df_reg_Raised['total_donations_NO_GG'] > -1000000000) &\n",
    "#                              (df_reg_Raised['total_donations_NO_GG'] <= 250000000000)]\n",
    "#df_reg_Raised = df_reg_PCGStart\n",
    "df_reg_Raised = df_reg_Raised[(df_reg_Raised['total_donations_NO_GG'] != 0)]"
   ]
  },
  {
   "cell_type": "code",
   "execution_count": null,
   "metadata": {},
   "outputs": [],
   "source": []
  },
  {
   "cell_type": "code",
   "execution_count": 15,
   "metadata": {},
   "outputs": [],
   "source": [
    "#df_reg_Raised.groupby('EIN',sort=True).filter(lambda x: x['FiscalYearEnd'].size == 18).groupby('EIN')['total_donations'].sum().value_counts()"
   ]
  },
  {
   "cell_type": "code",
   "execution_count": 16,
   "metadata": {},
   "outputs": [],
   "source": [
    "#making a copy of df_reg_Raised where outliers are removed\n",
    "#df[np.abs(df.Data-df.Data.mean()) <= (3*df.Data.std())]\n",
    "df_reg_Raised_NO = df_reg_Raised[\n",
    "    (np.abs(df_reg_Raised['total_donations_NO_GG'] - df_reg_Raised['total_donations_NO_GG'].mean()) <= \n",
    "                                                                    (3*df_reg_Raised['total_donations_NO_GG'].std()))]"
   ]
  },
  {
   "cell_type": "code",
   "execution_count": 17,
   "metadata": {},
   "outputs": [],
   "source": [
    "#removed around 1000 rows of outliers\n",
    "#df_reg_Raised_NO.shape\n"
   ]
  },
  {
   "cell_type": "code",
   "execution_count": 18,
   "metadata": {},
   "outputs": [],
   "source": [
    "#1998 - 2015 (18 years)  only 330 EIN's that appear in all 18 years (7 of them have 0 tot_don for all years)above\n",
    "#this next line balances by removing EINs that dont have lall 18 yrs of data\n",
    "#df_reg_balanced = df_reg_Raised.groupby('EIN',sort=True).filter(lambda x: x['FiscalYearEnd'].size == 18).set_index(['EIN', 'FiscalYearEnd']).sort_index()\n",
    "df_reg_balanced = df_reg_Raised.set_index(['EIN', 'FiscalYearEnd']).sort_index()\n",
    "#df_reg_balanced_NO = df_reg_Raised_NO.groupby('EIN',sort=True).filter(lambda x: x['FiscalYearEnd'].size == 18).set_index(['EIN', 'FiscalYearEnd']).sort_index()\n",
    "df_reg_balanced_NO = df_reg_Raised_NO.set_index(['EIN', 'FiscalYearEnd']).sort_index()\n",
    "#df_reg_balanced.groupby('EIN').size()\n",
    "#FINAL DATASET FOR REGRESSION\n",
    "mydata = df_reg_balanced[['total_donations_NO_GG','fundraising','PostTreatment','PCG_Treatment',\n",
    "                          'PostTreatment*PCG_Treatment', 'government_grants']]\n",
    "mydata_NO = df_reg_balanced_NO[['total_donations_NO_GG','fundraising','PostTreatment','PCG_Treatment',\n",
    "                          'PostTreatment*PCG_Treatment', 'government_grants']]\n"
   ]
  },
  {
   "cell_type": "code",
   "execution_count": 19,
   "metadata": {},
   "outputs": [
    {
     "name": "stdout",
     "output_type": "stream",
     "text": [
      "                            PanelOLS Estimation Summary                            \n",
      "===================================================================================\n",
      "Dep. Variable:     total_donations_NO_GG   R-squared:                        0.0005\n",
      "Estimator:                      PanelOLS   R-squared (Between):              0.0006\n",
      "No. Observations:                  43002   R-squared (Within):              -0.0001\n",
      "Date:                   Tue, Apr 16 2019   R-squared (Overall):              0.0008\n",
      "Time:                           13:26:55   Log-likelihood                -7.942e+05\n",
      "Cov. Estimator:                   Robust                                           \n",
      "                                           F-statistic:                      6.0864\n",
      "Entities:                           6668   P-value                           0.0004\n",
      "Avg Obs:                          6.4490   Distribution:                 F(3,36314)\n",
      "Min Obs:                          1.0000                                           \n",
      "Max Obs:                          18.000   F-statistic (robust):             30.733\n",
      "                                           P-value                           0.0000\n",
      "Time periods:                         18   Distribution:                 F(3,36314)\n",
      "Avg Obs:                          2389.0                                           \n",
      "Min Obs:                          1252.0                                           \n",
      "Max Obs:                          3887.0                                           \n",
      "                                                                                   \n",
      "                                      Parameter Estimates                                      \n",
      "===============================================================================================\n",
      "                             Parameter  Std. Err.     T-stat    P-value    Lower CI    Upper CI\n",
      "-----------------------------------------------------------------------------------------------\n",
      "fundraising                     0.6967     0.6591     1.0571     0.2905     -0.5951      1.9885\n",
      "PostTreatment*PCG_Treatment  -4.24e+06  4.662e+05    -9.0958     0.0000  -5.154e+06  -3.327e+06\n",
      "government_grants               0.0903     0.0943     0.9571     0.3385     -0.0946      0.2751\n",
      "===============================================================================================\n",
      "\n",
      "F-test for Poolability: 42.831\n",
      "P-value: 0.0000\n",
      "Distribution: F(6684,36314)\n",
      "\n",
      "Included effects: Entity, Time\n"
     ]
    }
   ],
   "source": [
    "#regression\n",
    "#year effect becomes collinear with postTreatment - all posttreatment correspond to 2008\n",
    "y = mydata.total_donations_NO_GG #NOT INCLUDEING RAISED or GOV GRANNTs BELOW\n",
    "x = mydata[['fundraising','PostTreatment*PCG_Treatment', 'government_grants']]\n",
    "mod = PanelOLS(y, x, time_effects = True, entity_effects = True) #cant use firm FE - perf collinear to TREATMENT\n",
    "res = mod.fit(cov_type='robust')  #clustering by EIN???? correct?\n",
    "print(res)"
   ]
  },
  {
   "cell_type": "code",
   "execution_count": 20,
   "metadata": {},
   "outputs": [
    {
     "data": {
      "text/plain": [
       "0    39711\n",
       "1    28980\n",
       "Name: PostTreatment, dtype: int64"
      ]
     },
     "execution_count": 20,
     "metadata": {},
     "output_type": "execute_result"
    }
   ],
   "source": [
    "mydata['PostTreatment'].value_counts()"
   ]
  },
  {
   "cell_type": "code",
   "execution_count": 21,
   "metadata": {},
   "outputs": [],
   "source": [
    "mydata_noi = mydata.reset_index()"
   ]
  },
  {
   "cell_type": "code",
   "execution_count": 22,
   "metadata": {},
   "outputs": [
    {
     "data": {
      "image/png": "[encoded data removed]",
      "text/plain": [
       "<Figure size 432x288 with 1 Axes>"
      ]
     },
     "metadata": {
      "needs_background": "light"
     },
     "output_type": "display_data"
    }
   ],
   "source": [
    "plt = mydata_noi.plot.scatter(x = 'FiscalYearEnd', y = 'total_donations_NO_GG', title= 'TD NO GG all')"
   ]
  },
  {
   "cell_type": "code",
   "execution_count": 23,
   "metadata": {},
   "outputs": [
    {
     "data": {
      "image/png": "[encoded data removed]",
      "text/plain": [
       "<Figure size 432x288 with 1 Axes>"
      ]
     },
     "metadata": {
      "needs_background": "light"
     },
     "output_type": "display_data"
    }
   ],
   "source": [
    "#this shows issue - so many outlier\n",
    "bp = mydata_noi.boxplot(column='total_donations_NO_GG')"
   ]
  },
  {
   "cell_type": "code",
   "execution_count": 20,
   "metadata": {},
   "outputs": [
    {
     "name": "stdout",
     "output_type": "stream",
     "text": [
      "                            PanelOLS Estimation Summary                            \n",
      "===================================================================================\n",
      "Dep. Variable:     total_donations_NO_GG   R-squared:                        0.0008\n",
      "Estimator:                      PanelOLS   R-squared (Between):             -0.0003\n",
      "No. Observations:                  42785   R-squared (Within):            -8.64e-06\n",
      "Date:                   Tue, Apr 16 2019   R-squared (Overall):             -0.0001\n",
      "Time:                           13:27:18   Log-likelihood                -7.137e+05\n",
      "Cov. Estimator:                   Robust                                           \n",
      "                                           F-statistic:                      9.9037\n",
      "Entities:                           6664   P-value                           0.0000\n",
      "Avg Obs:                          6.4203   Distribution:                 F(3,36101)\n",
      "Min Obs:                          1.0000                                           \n",
      "Max Obs:                          18.000   F-statistic (robust):             16.329\n",
      "                                           P-value                           0.0000\n",
      "Time periods:                         18   Distribution:                 F(3,36101)\n",
      "Avg Obs:                          2376.9                                           \n",
      "Min Obs:                          1239.0                                           \n",
      "Max Obs:                          3867.0                                           \n",
      "                                                                                   \n",
      "                                      Parameter Estimates                                      \n",
      "===============================================================================================\n",
      "                             Parameter  Std. Err.     T-stat    P-value    Lower CI    Upper CI\n",
      "-----------------------------------------------------------------------------------------------\n",
      "fundraising                     0.7245     0.2010     3.6041     0.0003      0.3305      1.1185\n",
      "PostTreatment*PCG_Treatment -6.741e+05  1.084e+05    -6.2208     0.0000  -8.865e+05  -4.617e+05\n",
      "government_grants              -0.0073     0.0771    -0.0942     0.9249     -0.1584      0.1438\n",
      "===============================================================================================\n",
      "\n",
      "F-test for Poolability: 45.234\n",
      "P-value: 0.0000\n",
      "Distribution: F(6680,36101)\n",
      "\n",
      "Included effects: Entity, Time\n"
     ]
    }
   ],
   "source": [
    "##NOW WILL REMOVE OUTLIERS\n",
    "#regression\n",
    "y = mydata_NO.total_donations_NO_GG #NOT INCLUDEING RAISED or GOV GRANNTs BELOW, fundrai, \n",
    "x = mydata_NO[['fundraising','PostTreatment*PCG_Treatment','government_grants']]\n",
    "mod = PanelOLS(y, x, time_effects = True, entity_effects=True) #cant use firm FE - perf collinear to TREATMENT\n",
    "res = mod.fit(cov_type='robust')  #clustering by EIN???? correct?\n",
    "print(res)"
   ]
  },
  {
   "cell_type": "code",
   "execution_count": 25,
   "metadata": {},
   "outputs": [
    {
     "data": {
      "text/plain": [
       "(25551, 7)"
      ]
     },
     "execution_count": 25,
     "metadata": {},
     "output_type": "execute_result"
    }
   ],
   "source": [
    "mydata_NO[mydata_NO['total_donations_NO_GG'] == 0].shape"
   ]
  },
  {
   "cell_type": "code",
   "execution_count": 26,
   "metadata": {},
   "outputs": [],
   "source": [
    "mydata_NO_noi = mydata_NO.reset_index()"
   ]
  },
  {
   "cell_type": "code",
   "execution_count": 27,
   "metadata": {},
   "outputs": [
    {
     "data": {
      "image/png": "[encoded data removed]",
      "text/plain": [
       "<Figure size 432x288 with 1 Axes>"
      ]
     },
     "metadata": {
      "needs_background": "light"
     },
     "output_type": "display_data"
    }
   ],
   "source": [
    "plt = mydata_NO_noi.plot.scatter(x = 'FiscalYearEnd', y = 'total_donations_NO_GG', title= 'TD NO GG all')\n",
    "#constant dollars?????"
   ]
  },
  {
   "cell_type": "code",
   "execution_count": 28,
   "metadata": {},
   "outputs": [
    {
     "data": {
      "image/png": "[encoded data removed]",
      "text/plain": [
       "<Figure size 432x288 with 1 Axes>"
      ]
     },
     "metadata": {
      "needs_background": "light"
     },
     "output_type": "display_data"
    }
   ],
   "source": [
    "#this shows issue - so many outlier\n",
    "bp = mydata_NO_noi.boxplot(column='total_donations_NO_GG')"
   ]
  },
  {
   "cell_type": "code",
   "execution_count": 29,
   "metadata": {},
   "outputs": [
    {
     "data": {
      "image/png": "[encoded data removed]",
      "text/plain": [
       "<Figure size 432x288 with 1 Axes>"
      ]
     },
     "metadata": {
      "needs_background": "light"
     },
     "output_type": "display_data"
    }
   ],
   "source": [
    "bp = mydata_NO_noi[mydata_NO_noi['PCG_Treatment'] == 1].boxplot(column='total_donations_NO_GG')"
   ]
  },
  {
   "cell_type": "code",
   "execution_count": 30,
   "metadata": {},
   "outputs": [
    {
     "data": {
      "image/png": "[encoded data removed]",
      "text/plain": [
       "<Figure size 432x288 with 1 Axes>"
      ]
     },
     "metadata": {
      "needs_background": "light"
     },
     "output_type": "display_data"
    }
   ],
   "source": [
    "bp = mydata_NO_noi[mydata_NO_noi['PCG_Treatment'] == 0].boxplot(column='total_donations_NO_GG')"
   ]
  },
  {
   "cell_type": "code",
   "execution_count": 31,
   "metadata": {},
   "outputs": [
    {
     "data": {
      "image/png": "[encoded data removed]",
      "text/plain": [
       "<Figure size 432x288 with 1 Axes>"
      ]
     },
     "metadata": {
      "needs_background": "light"
     },
     "output_type": "display_data"
    }
   ],
   "source": [
    "hist = mydata_noi['total_donations_NO_GG'].hist(bins=100)"
   ]
  },
  {
   "cell_type": "code",
   "execution_count": 32,
   "metadata": {},
   "outputs": [
    {
     "data": {
      "text/plain": [
       "count    6.760800e+04\n",
       "mean     1.489061e+06\n",
       "std      8.038424e+06\n",
       "min     -1.170843e+06\n",
       "25%      0.000000e+00\n",
       "50%      3.386750e+04\n",
       "75%      4.114105e+05\n",
       "max      1.821374e+08\n",
       "Name: total_donations_NO_GG, dtype: float64"
      ]
     },
     "execution_count": 32,
     "metadata": {},
     "output_type": "execute_result"
    }
   ],
   "source": [
    "mydata_NO_noi['total_donations_NO_GG'].describe()"
   ]
  },
  {
   "cell_type": "code",
   "execution_count": 33,
   "metadata": {},
   "outputs": [
    {
     "data": {
      "text/plain": [
       "count    6.869100e+04\n",
       "mean     3.966931e+06\n",
       "std      6.001701e+07\n",
       "min     -1.170843e+06\n",
       "20%      0.000000e+00\n",
       "50%      3.680600e+04\n",
       "80%      7.310120e+05\n",
       "max      4.606417e+09\n",
       "Name: total_donations_NO_GG, dtype: float64"
      ]
     },
     "execution_count": 33,
     "metadata": {},
     "output_type": "execute_result"
    }
   ],
   "source": [
    "mydata_noi['total_donations_NO_GG'].describe(percentiles = [.2,.8])"
   ]
  },
  {
   "cell_type": "code",
   "execution_count": 34,
   "metadata": {},
   "outputs": [
    {
     "data": {
      "text/plain": [
       "0    64167\n",
       "1     4524\n",
       "Name: PCG_Treatment, dtype: int64"
      ]
     },
     "execution_count": 34,
     "metadata": {},
     "output_type": "execute_result"
    }
   ],
   "source": [
    "mydata_noi['PCG_Treatment'].value_counts()"
   ]
  },
  {
   "cell_type": "code",
   "execution_count": 35,
   "metadata": {},
   "outputs": [
    {
     "data": {
      "text/plain": [
       "0    39711\n",
       "1    28980\n",
       "Name: PostTreatment, dtype: int64"
      ]
     },
     "execution_count": 35,
     "metadata": {},
     "output_type": "execute_result"
    }
   ],
   "source": [
    "mydata_noi['PostTreatment'].value_counts()"
   ]
  },
  {
   "cell_type": "code",
   "execution_count": 36,
   "metadata": {},
   "outputs": [],
   "source": [
    "#<X and up for total_donations cutoff, number of PCG firms in sample\n",
    "#1,000,000    2\n",
    "#  500,000    4\n",
    "#  100,000    11\n",
    "#   50,000    13\n",
    "#   25,000    15\n",
    "#    1,000    18\n",
    "#        0    18"
   ]
  },
  {
   "cell_type": "code",
   "execution_count": 37,
   "metadata": {},
   "outputs": [
    {
     "data": {
      "text/plain": [
       "402"
      ]
     },
     "execution_count": 37,
     "metadata": {},
     "output_type": "execute_result"
    }
   ],
   "source": [
    "df_reg[df_reg['EIN'].isin(df_vert_PCG['EIN'])]['EIN'].nunique()"
   ]
  },
  {
   "cell_type": "code",
   "execution_count": 38,
   "metadata": {},
   "outputs": [
    {
     "data": {
      "text/plain": [
       "395"
      ]
     },
     "execution_count": 38,
     "metadata": {},
     "output_type": "execute_result"
    }
   ],
   "source": [
    "mydata_noi[mydata_noi['PCG_Treatment'] == 1]['EIN'].nunique()"
   ]
  },
  {
   "cell_type": "code",
   "execution_count": null,
   "metadata": {},
   "outputs": [],
   "source": []
  },
  {
   "cell_type": "code",
   "execution_count": null,
   "metadata": {},
   "outputs": [],
   "source": []
  },
  {
   "cell_type": "code",
   "execution_count": null,
   "metadata": {},
   "outputs": [],
   "source": []
  },
  {
   "cell_type": "code",
   "execution_count": null,
   "metadata": {},
   "outputs": [],
   "source": []
  },
  {
   "cell_type": "code",
   "execution_count": null,
   "metadata": {},
   "outputs": [],
   "source": []
  },
  {
   "cell_type": "code",
   "execution_count": null,
   "metadata": {},
   "outputs": [],
   "source": []
  }
 ],
 "metadata": {
  "kernelspec": {
   "display_name": "Python 3",
   "language": "python",
   "name": "python3"
  },
  "language_info": {
   "codemirror_mode": {
    "name": "ipython",
    "version": 3
   },
   "file_extension": ".py",
   "mimetype": "text/x-python",
   "name": "python",
   "nbconvert_exporter": "python",
   "pygments_lexer": "ipython3",
   "version": "3.7.2"
  }
 },
 "nbformat": 4,
 "nbformat_minor": 2
}

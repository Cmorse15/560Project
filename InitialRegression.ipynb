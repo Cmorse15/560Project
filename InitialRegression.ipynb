{
 "cells": [
  {
   "cell_type": "code",
   "execution_count": 417,
   "metadata": {},
   "outputs": [],
   "source": [
    "import numpy as np\n",
    "import pandas as pd\n",
    "from linearmodels import PanelOLS\n",
    "import statsmodels.api as sm\n",
    "from scipy import stats"
   ]
  },
  {
   "cell_type": "code",
   "execution_count": 2,
   "metadata": {},
   "outputs": [],
   "source": [
    "df_New_Main = pd.read_excel('TAMU_NewForm_Main_20170817.xlsx')\n",
    "df_Old_Main = pd.read_excel('TAMU_OldForm_Main_20170817.xlsx')\n",
    "df_PCG_Data = pd.read_csv('PCG_Donor_Data2.csv')"
   ]
  },
  {
   "cell_type": "code",
   "execution_count": 9,
   "metadata": {},
   "outputs": [],
   "source": [
    "#do all renaming here\n",
    "df_PCG_All = df_PCG_Data.rename(index=str, columns = {\"Unnamed: 0\" : \"org_name\"})\n",
    "df_Old_All = df_Old_Main.rename(index=str, columns = {\"ein\" : \"EIN\"})[['org_name', 'EIN', 'FiscalYearEnd',\n",
    "                                                      'NTEECODE', 'government_grants', \n",
    "                                                      'service_revenue', 'membership_dues', 'fundraising']]\n",
    "df_New_All = df_New_Main.rename(index=str, columns = {\"ORGNAME\" : \"org_name\"})[['org_name', 'EIN', 'FiscalYearEnd', \n",
    "                                                      'NTEECODE', 'FED_CAMPAIGNS', 'MEMBERSHIP_DUES', \n",
    "                                                      'TOTAL_FUNDRAISING', 'RELATED_ORGS', 'GOV_GRANTS', 'CONTRIB_OTHER', \n",
    "                                                      'CONTRIB_NONCASH', 'CONTRIB_ALL', 'SERVICE_REVENUE']].rename(index=str, columns = {\"MEMBERSHIP_DUES\" : \"membership_dues\", \n",
    "                                                                           \"GOV_GRANTS\" : \"government_grants\", \n",
    "                                                                           \"SERVICE_REVENUE\" : \"service_revenue\", \"TOTAL_FUNDRAISING\" : \"fundraising\"})"
   ]
  },
  {
   "cell_type": "code",
   "execution_count": 10,
   "metadata": {},
   "outputs": [],
   "source": [
    "#aggregate summing of repeated EINs\n",
    "df_PCG_All.loc[df_PCG_All['EIN'] == '23-7394620', 'org_name'] = 'University of Alaska'\n",
    "df_PCG_All.loc[df_PCG_All['EIN'] == '92-0155067', 'org_name'] = 'Alaska Community Foundation'\n",
    "df_PCG_All.loc[df_PCG_All['EIN'] == '92-0152088', 'org_name'] = 'Alaska Medical Missions CHA'\n",
    "df_PCG_All.loc[df_PCG_All['EIN'] == '92-6001185', 'org_name'] = 'Crime Victim Compensation Fund'\n",
    "df_PCG_All = df_PCG_All.groupby(['EIN','org_name'], as_index = False).sum()\n",
    "#grouped so each EIN appears 1 time\n",
    "#604 unique organizations by EIN (df_PCG_All['EIN'].nunique())"
   ]
  },
  {
   "cell_type": "code",
   "execution_count": 339,
   "metadata": {},
   "outputs": [],
   "source": [
    "#new is 2007 - 2015\n",
    "#old is 1998 - 2008\n",
    "df_New_reg = df_New_All[['EIN', 'FiscalYearEnd', 'membership_dues', \n",
    "                                    'government_grants', 'service_revenue', 'fundraising']].fillna(0)\n",
    "df_Old_reg = df_Old_All[['EIN', 'FiscalYearEnd', 'membership_dues', \n",
    "                                    'government_grants', 'service_revenue', 'fundraising']].fillna(0)"
   ]
  },
  {
   "cell_type": "code",
   "execution_count": 340,
   "metadata": {},
   "outputs": [],
   "source": [
    "#invert PCG data\n",
    "df_vert_PCG = pd.melt(df_PCG_All, id_vars=['EIN', 'org_name'], value_vars=['2009','2010','2011','2012','2013',\n",
    "                                    '2014','2015','2016','2017','2018'], var_name = 'Year', value_name = 'Raised')"
   ]
  },
  {
   "cell_type": "code",
   "execution_count": 341,
   "metadata": {},
   "outputs": [],
   "source": [
    "#assume year started is min year where raised > 0\n",
    "df_PCG_NOZERO = df_vert_PCG[df_vert_PCG['Raised'] != 0]\n",
    "df_PCG_Start = df_PCG_NOZERO.groupby('EIN', as_index=False)['Year'].min().rename(index=str, columns = {\"Year\": \"PCGStartYear\"})"
   ]
  },
  {
   "cell_type": "code",
   "execution_count": 343,
   "metadata": {},
   "outputs": [
    {
     "data": {
      "text/html": [
       "<div>\n",
       "<style scoped>\n",
       "    .dataframe tbody tr th:only-of-type {\n",
       "        vertical-align: middle;\n",
       "    }\n",
       "\n",
       "    .dataframe tbody tr th {\n",
       "        vertical-align: top;\n",
       "    }\n",
       "\n",
       "    .dataframe thead th {\n",
       "        text-align: right;\n",
       "    }\n",
       "</style>\n",
       "<table border=\"1\" class=\"dataframe\">\n",
       "  <thead>\n",
       "    <tr style=\"text-align: right;\">\n",
       "      <th></th>\n",
       "      <th>EIN</th>\n",
       "      <th>PCGStartYear</th>\n",
       "    </tr>\n",
       "  </thead>\n",
       "  <tbody>\n",
       "    <tr>\n",
       "      <th>0</th>\n",
       "      <td>03-0382080</td>\n",
       "      <td>2011</td>\n",
       "    </tr>\n",
       "    <tr>\n",
       "      <th>1</th>\n",
       "      <td>03-0400265</td>\n",
       "      <td>2014</td>\n",
       "    </tr>\n",
       "    <tr>\n",
       "      <th>2</th>\n",
       "      <td>05-0591944</td>\n",
       "      <td>2009</td>\n",
       "    </tr>\n",
       "  </tbody>\n",
       "</table>\n",
       "</div>"
      ],
      "text/plain": [
       "          EIN PCGStartYear\n",
       "0  03-0382080         2011\n",
       "1  03-0400265         2014\n",
       "2  05-0591944         2009"
      ]
     },
     "execution_count": 343,
     "metadata": {},
     "output_type": "execute_result"
    }
   ],
   "source": [
    "df_PCG_Start.head(3)"
   ]
  },
  {
   "cell_type": "code",
   "execution_count": 342,
   "metadata": {},
   "outputs": [],
   "source": [
    "#add the old and new together\n",
    "df_reg = pd.concat([df_New_reg, df_Old_reg], ignore_index = True)"
   ]
  },
  {
   "cell_type": "code",
   "execution_count": 362,
   "metadata": {},
   "outputs": [],
   "source": [
    "#adding TREATMENT dummy\n",
    "df_reg['PCG_Treatment'] = df_reg['EIN'].isin(df_PCG_Start['EIN']).astype(int)\n",
    "df_reg_PCGStart = df_reg.merge(df_PCG_Start, on = 'EIN', how='left').fillna(0)\n",
    "#make sure int\n",
    "df_reg_PCGStart['PCGStartYear'] = df_reg_PCGStart['PCGStartYear'].astype(int)"
   ]
  },
  {
   "cell_type": "code",
   "execution_count": 476,
   "metadata": {},
   "outputs": [],
   "source": [
    "#add the POST_TREATMENT dummy\n",
    "df_reg_PCGStart['PostTreatment'] = 0\n",
    "#want to do anything about mid year ends???? below (some pcg donations may come after midyear fiscal end)\n",
    "#if not in treatment - post_treatment is 1 if year after 2008\n",
    "df_reg_PCGStart.loc[df_reg_PCGStart['PCG_Treatment'] == False, 'PostTreatment'] = \\\n",
    "                                    (df_reg_PCGStart['FiscalYearEnd'] > 2008).astype(int)\n",
    "#if in treatment - post_treatment is 1 if year on/after PCGStartYear\n",
    "df_reg_PCGStart.loc[df_reg_PCGStart['PCG_Treatment'] == True, 'PostTreatment'] = \\\n",
    "                                    (df_reg_PCGStart['FiscalYearEnd'] >= df_reg_PCGStart['PCGStartYear']).astype(int)\n",
    "#NOW POSTTREATMENT IS CORRECT AND PCG_TREATMENT IS CORRECT"
   ]
  },
  {
   "cell_type": "code",
   "execution_count": 477,
   "metadata": {},
   "outputs": [],
   "source": [
    "#add columns for depvar and interaction\n",
    "df_reg_PCGStart['total_donations'] = df_reg_PCGStart['membership_dues'] + \\\n",
    "                                     df_reg_PCGStart['government_grants'] + df_reg_PCGStart['service_revenue']\n",
    "df_reg_PCGStart['total_donations_NO_GG'] = df_reg_PCGStart['membership_dues'] + \\\n",
    "                                           df_reg_PCGStart['service_revenue']\n",
    "df_reg_PCGStart['PostTreatment*PCG_Treatment'] = df_reg_PCGStart['PostTreatment'] * df_reg_PCGStart['PCG_Treatment']"
   ]
  },
  {
   "cell_type": "code",
   "execution_count": 478,
   "metadata": {},
   "outputs": [],
   "source": [
    "#Add giving via pcg\n",
    "df_PCG_Raised = df_vert_PCG[['EIN', 'Year', 'Raised']].rename(index=str,columns={\"Year\" : \"FiscalYearEnd\"})\n",
    "df_reg_PCGStart['FiscalYearEnd'] = df_reg_PCGStart['FiscalYearEnd'].astype(int)\n",
    "df_PCG_Raised['FiscalYearEnd'] = df_PCG_Raised['FiscalYearEnd'].astype(int)\n",
    "df_reg_Raised = pd.merge(df_reg_PCGStart,df_PCG_Raised, on = ['EIN', 'FiscalYearEnd'], how = 'left').fillna(0)"
   ]
  },
  {
   "cell_type": "code",
   "execution_count": 493,
   "metadata": {},
   "outputs": [],
   "source": [
    "#drop EIN if has 0 total donations for all years*****\n",
    "#df_reg_Raised = df_reg_Raised.groupby(['EIN'],as_index = False).filter(lambda x: x['total_donations'].sum() != 0)\n",
    "#not sure I want to do this before checking if EIN has all years\n",
    "df_reg_Raised = df_reg_Raised[(df_reg_Raised['total_donations'] != 0) & (df_reg_Raised['total_donations_NO_GG'] != 0)]"
   ]
  },
  {
   "cell_type": "code",
   "execution_count": 497,
   "metadata": {},
   "outputs": [
    {
     "data": {
      "text/plain": [
       "(42061, 13)"
      ]
     },
     "execution_count": 497,
     "metadata": {},
     "output_type": "execute_result"
    }
   ],
   "source": [
    "df_reg_Raised_NO.shape"
   ]
  },
  {
   "cell_type": "code",
   "execution_count": null,
   "metadata": {},
   "outputs": [],
   "source": [
    "#df_reg_Raised.groupby('EIN',sort=True).filter(lambda x: x['FiscalYearEnd'].size == 18).groupby('EIN')['total_donations'].sum().value_counts()"
   ]
  },
  {
   "cell_type": "code",
   "execution_count": 496,
   "metadata": {},
   "outputs": [],
   "source": [
    "#making a copy of df_reg_Raised where outliers are removed\n",
    "#df[np.abs(df.Data-df.Data.mean()) <= (3*df.Data.std())]\n",
    "df_reg_Raised_NO = df_reg_Raised[\n",
    "    (np.abs(df_reg_Raised['membership_dues'] - df_reg_Raised['membership_dues'].mean()) <= \n",
    "                                                                    (3*df_reg_Raised['membership_dues'].std())) &\n",
    "    (np.abs(df_reg_Raised['government_grants'] - df_reg_Raised['government_grants'].mean()) <= \n",
    "                                                                    (3*df_reg_Raised['government_grants'].std())) &\n",
    "    (np.abs(df_reg_Raised['service_revenue'] - df_reg_Raised['service_revenue'].mean()) <= \n",
    "                                                                    (3*df_reg_Raised['service_revenue'].std())) &\n",
    "    (np.abs(df_reg_Raised['fundraising'] - df_reg_Raised['fundraising'].mean()) <= \n",
    "                                                                    (3*df_reg_Raised['fundraising'].std())) &\n",
    "    (np.abs(df_reg_Raised['total_donations'] - df_reg_Raised['total_donations'].mean()) <= \n",
    "                                                                    (3*df_reg_Raised['total_donations'].std())) &\n",
    "    (np.abs(df_reg_Raised['total_donations_NO_GG'] - df_reg_Raised['total_donations_NO_GG'].mean()) <= \n",
    "                                                                    (3*df_reg_Raised['total_donations_NO_GG'].std()))]"
   ]
  },
  {
   "cell_type": "code",
   "execution_count": 436,
   "metadata": {},
   "outputs": [],
   "source": [
    "#removed around 1000 rows of outliers\n",
    "#df_reg_Raised_NO.shape\n"
   ]
  },
  {
   "cell_type": "code",
   "execution_count": 498,
   "metadata": {},
   "outputs": [],
   "source": [
    "#1998 - 2015 (18 years)  only 330 EIN's that appear in all 18 years (7 of them have 0 tot_don for all years)above\n",
    "#this next line balances by removing EINs that dont have lall 18 yrs of data\n",
    "df_reg_balanced = df_reg_Raised.groupby('EIN',sort=True).filter(lambda x: x['FiscalYearEnd'].size == 18).set_index(['EIN', 'FiscalYearEnd']).sort_index()\n",
    "df_reg_balanced_NO = df_reg_Raised_NO.groupby('EIN',sort=True).filter(lambda x: x['FiscalYearEnd'].size == 18).set_index(['EIN', 'FiscalYearEnd']).sort_index()\n",
    "\n",
    "#df_reg_balanced.groupby('EIN').size()\n",
    "#FINAL DATASET FOR REGRESSION\n",
    "mydata = df_reg_balanced[['total_donations_NO_GG','fundraising','PostTreatment','PCG_Treatment',\n",
    "                          'Raised','PostTreatment*PCG_Treatment', 'government_grants']]\n",
    "mydata_NO = df_reg_balanced_NO[['total_donations_NO_GG','fundraising','PostTreatment','PCG_Treatment',\n",
    "                          'Raised','PostTreatment*PCG_Treatment', 'government_grants']]\n"
   ]
  },
  {
   "cell_type": "code",
   "execution_count": 499,
   "metadata": {},
   "outputs": [
    {
     "name": "stdout",
     "output_type": "stream",
     "text": [
      "                            PanelOLS Estimation Summary                            \n",
      "===================================================================================\n",
      "Dep. Variable:     total_donations_NO_GG   R-squared:                        0.0021\n",
      "Estimator:                      PanelOLS   R-squared (Between):              0.0045\n",
      "No. Observations:                   3780   R-squared (Within):               0.0081\n",
      "Date:                   Wed, Apr 10 2019   R-squared (Overall):              0.0053\n",
      "Time:                           19:58:00   Log-likelihood                -7.497e+04\n",
      "Cov. Estimator:                Clustered                                           \n",
      "                                           F-statistic:                      1.9712\n",
      "Entities:                            210   P-value                           0.0961\n",
      "Avg Obs:                          18.000   Distribution:                  F(4,3758)\n",
      "Min Obs:                          18.000                                           \n",
      "Max Obs:                          18.000   F-statistic (robust):             1.0957\n",
      "                                           P-value                           0.3568\n",
      "Time periods:                         18   Distribution:                  F(4,3758)\n",
      "Avg Obs:                          210.00                                           \n",
      "Min Obs:                          210.00                                           \n",
      "Max Obs:                          210.00                                           \n",
      "                                                                                   \n",
      "                                      Parameter Estimates                                      \n",
      "===============================================================================================\n",
      "                             Parameter  Std. Err.     T-stat    P-value    Lower CI    Upper CI\n",
      "-----------------------------------------------------------------------------------------------\n",
      "fundraising                    -3.4916     2.6977    -1.2943     0.1957     -8.7808      1.7976\n",
      "PostTreatment                7.199e+06  6.808e+06     1.0574     0.2904  -6.149e+06   2.055e+07\n",
      "PCG_Treatment               -7.538e+06   4.95e+06    -1.5229     0.1279  -1.724e+07   2.167e+06\n",
      "PostTreatment*PCG_Treatment -8.305e+06  6.266e+06    -1.3253     0.1851  -2.059e+07   3.981e+06\n",
      "===============================================================================================\n",
      "\n",
      "F-test for Poolability: 0.2489\n",
      "P-value: 0.9992\n",
      "Distribution: F(17,3758)\n",
      "\n",
      "Included effects: Time\n"
     ]
    }
   ],
   "source": [
    "#regression\n",
    "y = mydata.total_donations_NO_GG #NOT INCLUDEING RAISED or GOV GRANNTs BELOW\n",
    "x = mydata[['fundraising','PostTreatment','PCG_Treatment','PostTreatment*PCG_Treatment']]\n",
    "mod = PanelOLS(y, x, time_effects = True, entity_effects=False) #cant use firm FE - perf collinear to TREATMENT\n",
    "res = mod.fit(cov_type='clustered', cluster_entity=True)  #clustering by EIN???? correct?\n",
    "print(res)"
   ]
  },
  {
   "cell_type": "code",
   "execution_count": null,
   "metadata": {},
   "outputs": [],
   "source": [
    "#says pcg orgs losing 5mil after joining but outliers are screwing as seen in finalizeData"
   ]
  },
  {
   "cell_type": "code",
   "execution_count": 500,
   "metadata": {},
   "outputs": [],
   "source": [
    "mydata_noi = mydata.reset_index()"
   ]
  },
  {
   "cell_type": "code",
   "execution_count": 501,
   "metadata": {},
   "outputs": [
    {
     "data": {
      "image/png": "[encoded data removed]",
      "text/plain": [
       "<Figure size 432x288 with 1 Axes>"
      ]
     },
     "metadata": {
      "needs_background": "light"
     },
     "output_type": "display_data"
    }
   ],
   "source": [
    "plt = mydata_noi.plot.scatter(x = 'FiscalYearEnd', y = 'total_donations_NO_GG', title= 'TD NO GG all')"
   ]
  },
  {
   "cell_type": "code",
   "execution_count": 502,
   "metadata": {},
   "outputs": [
    {
     "data": {
      "image/png": "[encoded data removed]",
      "text/plain": [
       "<Figure size 432x288 with 1 Axes>"
      ]
     },
     "metadata": {
      "needs_background": "light"
     },
     "output_type": "display_data"
    }
   ],
   "source": [
    "#this shows issue - so many outlier\n",
    "bp = mydata_noi.boxplot(column='total_donations_NO_GG')"
   ]
  },
  {
   "cell_type": "code",
   "execution_count": 513,
   "metadata": {},
   "outputs": [
    {
     "name": "stdout",
     "output_type": "stream",
     "text": [
      "                            PanelOLS Estimation Summary                            \n",
      "===================================================================================\n",
      "Dep. Variable:     total_donations_NO_GG   R-squared:                        0.0021\n",
      "Estimator:                      PanelOLS   R-squared (Between):             -0.0270\n",
      "No. Observations:                   3312   R-squared (Within):              -0.0294\n",
      "Date:                   Wed, Apr 10 2019   R-squared (Overall):             -0.0276\n",
      "Time:                           20:00:40   Log-likelihood                -5.816e+04\n",
      "Cov. Estimator:                Clustered                                           \n",
      "                                           F-statistic:                      1.7369\n",
      "Entities:                            184   P-value                           0.1390\n",
      "Avg Obs:                          18.000   Distribution:                  F(4,3290)\n",
      "Min Obs:                          18.000                                           \n",
      "Max Obs:                          18.000   F-statistic (robust):             0.5486\n",
      "                                           P-value                           0.7001\n",
      "Time periods:                         18   Distribution:                  F(4,3290)\n",
      "Avg Obs:                          184.00                                           \n",
      "Min Obs:                          184.00                                           \n",
      "Max Obs:                          184.00                                           \n",
      "                                                                                   \n",
      "                                      Parameter Estimates                                      \n",
      "===============================================================================================\n",
      "                             Parameter  Std. Err.     T-stat    P-value    Lower CI    Upper CI\n",
      "-----------------------------------------------------------------------------------------------\n",
      "fundraising                     0.9897     5.6468     0.1753     0.8609     -10.082      12.061\n",
      "PostTreatment               -5.458e+05   2.27e+06    -0.2404     0.8100  -4.996e+06   3.905e+06\n",
      "PCG_Treatment                -1.05e+06  1.166e+06    -0.9007     0.3678  -3.337e+06   1.236e+06\n",
      "PostTreatment*PCG_Treatment -6.813e+05   1.56e+06    -0.4367     0.6624   -3.74e+06   2.378e+06\n",
      "===============================================================================================\n",
      "\n",
      "F-test for Poolability: 1.4100\n",
      "P-value: 0.1211\n",
      "Distribution: F(17,3290)\n",
      "\n",
      "Included effects: Time\n"
     ]
    }
   ],
   "source": [
    "##NOW WILL REMOVE OUTLIERS\n",
    "#regression\n",
    "y = mydata_NO.total_donations_NO_GG #NOT INCLUDEING RAISED or GOV GRANNTs BELOW\n",
    "x = mydata_NO[['fundraising','PostTreatment','PCG_Treatment','PostTreatment*PCG_Treatment']]\n",
    "mod = PanelOLS(y, x, time_effects = True, entity_effects=False) #cant use firm FE - perf collinear to TREATMENT\n",
    "res = mod.fit(cov_type='robust', cluster_entity=True)  #clustering by EIN???? correct?\n",
    "print(res)"
   ]
  },
  {
   "cell_type": "code",
   "execution_count": 506,
   "metadata": {},
   "outputs": [
    {
     "data": {
      "text/plain": [
       "(0, 7)"
      ]
     },
     "execution_count": 506,
     "metadata": {},
     "output_type": "execute_result"
    }
   ],
   "source": [
    "mydata_NO[mydata_NO['total_donations_NO_GG'] == 0].shape"
   ]
  },
  {
   "cell_type": "code",
   "execution_count": 507,
   "metadata": {},
   "outputs": [],
   "source": [
    "mydata_NO_noi = mydata_NO.reset_index()"
   ]
  },
  {
   "cell_type": "code",
   "execution_count": 508,
   "metadata": {},
   "outputs": [
    {
     "data": {
      "image/png": "[encoded data removed]",
      "text/plain": [
       "<Figure size 432x288 with 1 Axes>"
      ]
     },
     "metadata": {
      "needs_background": "light"
     },
     "output_type": "display_data"
    }
   ],
   "source": [
    "plt = mydata_NO_noi.plot.scatter(x = 'FiscalYearEnd', y = 'total_donations_NO_GG', title= 'TD NO GG all')\n",
    "#constant dollars?????"
   ]
  },
  {
   "cell_type": "code",
   "execution_count": 509,
   "metadata": {},
   "outputs": [
    {
     "data": {
      "image/png": "[encoded data removed]",
      "text/plain": [
       "<Figure size 432x288 with 1 Axes>"
      ]
     },
     "metadata": {
      "needs_background": "light"
     },
     "output_type": "display_data"
    }
   ],
   "source": [
    "#this shows issue - so many outlier\n",
    "bp = mydata_NO_noi.boxplot(column='total_donations_NO_GG')"
   ]
  },
  {
   "cell_type": "code",
   "execution_count": null,
   "metadata": {},
   "outputs": [],
   "source": []
  },
  {
   "cell_type": "code",
   "execution_count": null,
   "metadata": {},
   "outputs": [],
   "source": []
  }
 ],
 "metadata": {
  "kernelspec": {
   "display_name": "Python 3",
   "language": "python",
   "name": "python3"
  },
  "language_info": {
   "codemirror_mode": {
    "name": "ipython",
    "version": 3
   },
   "file_extension": ".py",
   "mimetype": "text/x-python",
   "name": "python",
   "nbconvert_exporter": "python",
   "pygments_lexer": "ipython3",
   "version": "3.7.2"
  }
 },
 "nbformat": 4,
 "nbformat_minor": 2
}

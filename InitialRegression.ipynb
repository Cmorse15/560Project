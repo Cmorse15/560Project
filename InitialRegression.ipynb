{
 "cells": [
  {
   "cell_type": "code",
   "execution_count": 40,
   "metadata": {},
   "outputs": [],
   "source": [
    "import numpy as np\n",
    "import pandas as pd\n",
    "from linearmodels import PanelOLS\n",
    "import statsmodels.api as sm\n",
    "from scipy import stats"
   ]
  },
  {
   "cell_type": "code",
   "execution_count": 41,
   "metadata": {},
   "outputs": [],
   "source": [
    "df_New_Main = pd.read_excel('TAMU_NewForm_Main_20170817.xlsx')\n",
    "df_Old_Main = pd.read_excel('TAMU_OldForm_Main_20170817.xlsx')\n",
    "df_PCG_Data = pd.read_csv('PCG_Donor_Data2.csv')"
   ]
  },
  {
   "cell_type": "code",
   "execution_count": 42,
   "metadata": {},
   "outputs": [],
   "source": [
    "#do all renaming here\n",
    "df_PCG_All = df_PCG_Data.rename(index=str, columns = {\"Unnamed: 0\" : \"org_name\"})\n",
    "df_Old_All = df_Old_Main.rename(index=str, columns = {\"ein\" : \"EIN\"})[['org_name', 'EIN', 'FiscalYearEnd',\n",
    "                                                      'NTEECODE', 'government_grants', \n",
    "                                                      'service_revenue', 'membership_dues', 'fundraising']]\n",
    "df_New_All = df_New_Main.rename(index=str, columns = {\"ORGNAME\" : \"org_name\"})[['org_name', 'EIN', 'FiscalYearEnd', \n",
    "                                                      'NTEECODE', 'FED_CAMPAIGNS', 'MEMBERSHIP_DUES', \n",
    "                                                      'TOTAL_FUNDRAISING', 'RELATED_ORGS', 'GOV_GRANTS', 'CONTRIB_OTHER', \n",
    "                                                      'CONTRIB_NONCASH', 'CONTRIB_ALL', 'SERVICE_REVENUE']].rename(index=str, columns = {\"MEMBERSHIP_DUES\" : \"membership_dues\", \n",
    "                                                                           \"GOV_GRANTS\" : \"government_grants\", \n",
    "                                                                           \"SERVICE_REVENUE\" : \"service_revenue\", \"TOTAL_FUNDRAISING\" : \"fundraising\"})"
   ]
  },
  {
   "cell_type": "code",
   "execution_count": 43,
   "metadata": {},
   "outputs": [],
   "source": [
    "#aggregate summing of repeated EINs\n",
    "df_PCG_All.loc[df_PCG_All['EIN'] == '23-7394620', 'org_name'] = 'University of Alaska'\n",
    "df_PCG_All.loc[df_PCG_All['EIN'] == '92-0155067', 'org_name'] = 'Alaska Community Foundation'\n",
    "df_PCG_All.loc[df_PCG_All['EIN'] == '92-0152088', 'org_name'] = 'Alaska Medical Missions CHA'\n",
    "df_PCG_All.loc[df_PCG_All['EIN'] == '92-6001185', 'org_name'] = 'Crime Victim Compensation Fund'\n",
    "df_PCG_All = df_PCG_All.groupby(['EIN','org_name'], as_index = False).sum()\n",
    "#grouped so each EIN appears 1 time\n",
    "#604 unique organizations by EIN (df_PCG_All['EIN'].nunique())"
   ]
  },
  {
   "cell_type": "code",
   "execution_count": 44,
   "metadata": {},
   "outputs": [],
   "source": [
    "#new is 2007 - 2015\n",
    "#old is 1998 - 2008\n",
    "df_New_reg = df_New_All[['EIN', 'FiscalYearEnd', 'membership_dues', \n",
    "                                    'government_grants', 'service_revenue', 'fundraising']].fillna(0)\n",
    "df_Old_reg = df_Old_All[['EIN', 'FiscalYearEnd', 'membership_dues', \n",
    "                                    'government_grants', 'service_revenue', 'fundraising']].fillna(0)"
   ]
  },
  {
   "cell_type": "code",
   "execution_count": 45,
   "metadata": {},
   "outputs": [],
   "source": [
    "#invert PCG data\n",
    "df_vert_PCG = pd.melt(df_PCG_All, id_vars=['EIN', 'org_name'], value_vars=['2009','2010','2011','2012','2013',\n",
    "                                    '2014','2015','2016','2017','2018'], var_name = 'Year', value_name = 'Raised')"
   ]
  },
  {
   "cell_type": "code",
   "execution_count": 46,
   "metadata": {},
   "outputs": [],
   "source": [
    "#assume year started is min year where raised > 0\n",
    "df_PCG_NOZERO = df_vert_PCG[df_vert_PCG['Raised'] != 0]\n",
    "df_PCG_Start = df_PCG_NOZERO.groupby('EIN', as_index=False)['Year'].min().rename(index=str, columns = {\"Year\": \"PCGStartYear\"})"
   ]
  },
  {
   "cell_type": "code",
   "execution_count": 47,
   "metadata": {},
   "outputs": [
    {
     "data": {
      "text/html": [
       "<div>\n",
       "<style scoped>\n",
       "    .dataframe tbody tr th:only-of-type {\n",
       "        vertical-align: middle;\n",
       "    }\n",
       "\n",
       "    .dataframe tbody tr th {\n",
       "        vertical-align: top;\n",
       "    }\n",
       "\n",
       "    .dataframe thead th {\n",
       "        text-align: right;\n",
       "    }\n",
       "</style>\n",
       "<table border=\"1\" class=\"dataframe\">\n",
       "  <thead>\n",
       "    <tr style=\"text-align: right;\">\n",
       "      <th></th>\n",
       "      <th>EIN</th>\n",
       "      <th>PCGStartYear</th>\n",
       "    </tr>\n",
       "  </thead>\n",
       "  <tbody>\n",
       "    <tr>\n",
       "      <th>0</th>\n",
       "      <td>03-0382080</td>\n",
       "      <td>2011</td>\n",
       "    </tr>\n",
       "    <tr>\n",
       "      <th>1</th>\n",
       "      <td>03-0400265</td>\n",
       "      <td>2014</td>\n",
       "    </tr>\n",
       "    <tr>\n",
       "      <th>2</th>\n",
       "      <td>05-0591944</td>\n",
       "      <td>2009</td>\n",
       "    </tr>\n",
       "  </tbody>\n",
       "</table>\n",
       "</div>"
      ],
      "text/plain": [
       "          EIN PCGStartYear\n",
       "0  03-0382080         2011\n",
       "1  03-0400265         2014\n",
       "2  05-0591944         2009"
      ]
     },
     "execution_count": 47,
     "metadata": {},
     "output_type": "execute_result"
    }
   ],
   "source": [
    "df_PCG_Start.head(3)"
   ]
  },
  {
   "cell_type": "code",
   "execution_count": 489,
   "metadata": {},
   "outputs": [],
   "source": [
    "#add the old and new together\n",
    "df_reg = pd.concat([df_New_reg, df_Old_reg], ignore_index = True)"
   ]
  },
  {
   "cell_type": "code",
   "execution_count": 490,
   "metadata": {},
   "outputs": [],
   "source": [
    "#adding TREATMENT dummy\n",
    "df_reg['PCG_Treatment'] = df_reg['EIN'].isin(df_PCG_Start['EIN']).astype(int)\n",
    "df_reg_PCGStart = df_reg.merge(df_PCG_Start, on = 'EIN', how='left').fillna(0)\n",
    "#make sure int\n",
    "df_reg_PCGStart['PCGStartYear'] = df_reg_PCGStart['PCGStartYear'].astype(int)"
   ]
  },
  {
   "cell_type": "code",
   "execution_count": 491,
   "metadata": {},
   "outputs": [],
   "source": [
    "#add the POST_TREATMENT dummy\n",
    "df_reg_PCGStart['PostTreatment'] = 0\n",
    "#want to do anything about mid year ends???? below (some pcg donations may come after midyear fiscal end)\n",
    "#if not in treatment - post_treatment is 1 if year after 2008\n",
    "df_reg_PCGStart.loc[df_reg_PCGStart['PCG_Treatment'] == False, 'PostTreatment'] = \\\n",
    "                                    (df_reg_PCGStart['FiscalYearEnd'] > 2008).astype(int)\n",
    "#if in treatment - post_treatment is 1 if year on/after PCGStartYear\n",
    "df_reg_PCGStart.loc[df_reg_PCGStart['PCG_Treatment'] == True, 'PostTreatment'] = \\\n",
    "                                    (df_reg_PCGStart['FiscalYearEnd'] >= df_reg_PCGStart['PCGStartYear']).astype(int)\n",
    "#NOW POSTTREATMENT IS CORRECT AND PCG_TREATMENT IS CORRECT"
   ]
  },
  {
   "cell_type": "code",
   "execution_count": 492,
   "metadata": {},
   "outputs": [],
   "source": [
    "#add columns for depvar and interaction\n",
    "df_reg_PCGStart['total_donations'] = df_reg_PCGStart['membership_dues'] + \\\n",
    "                                     df_reg_PCGStart['government_grants'] + df_reg_PCGStart['service_revenue']\n",
    "df_reg_PCGStart['total_donations_NO_GG'] = df_reg_PCGStart['membership_dues'] + \\\n",
    "                                           df_reg_PCGStart['service_revenue']\n",
    "df_reg_PCGStart['PostTreatment*PCG_Treatment'] = df_reg_PCGStart['PostTreatment'] * df_reg_PCGStart['PCG_Treatment']"
   ]
  },
  {
   "cell_type": "code",
   "execution_count": 493,
   "metadata": {},
   "outputs": [],
   "source": [
    "#Add giving via pcg\n",
    "df_PCG_Raised = df_vert_PCG[['EIN', 'Year', 'Raised']].rename(index=str,columns={\"Year\" : \"FiscalYearEnd\"})\n",
    "df_reg_PCGStart['FiscalYearEnd'] = df_reg_PCGStart['FiscalYearEnd'].astype(int)\n",
    "df_PCG_Raised['FiscalYearEnd'] = df_PCG_Raised['FiscalYearEnd'].astype(int)\n",
    "df_reg_Raised = pd.merge(df_reg_PCGStart,df_PCG_Raised, on = ['EIN', 'FiscalYearEnd'], how = 'left').fillna(0)"
   ]
  },
  {
   "cell_type": "code",
   "execution_count": 494,
   "metadata": {},
   "outputs": [],
   "source": [
    "#drop EIN if has 0 total donations for all years*****\n",
    "#df_reg_Raised = df_reg_Raised.groupby(['EIN'],as_index = False).filter(lambda x: x['total_donations'].sum() != 0)\n",
    "#not sure I want to do this before checking if EIN has all years\n",
    "#  ********\n",
    "#  was originally != 0 instead of between 250k and 10mil\n",
    "# more than 0 less than a mil interaction is sig\n",
    "df_reg_Raised = df_reg_Raised[(df_reg_Raised['total_donations_NO_GG'] > 0) &\n",
    "                              (df_reg_Raised['total_donations_NO_GG'] <= 5000000)]"
   ]
  },
  {
   "cell_type": "code",
   "execution_count": null,
   "metadata": {},
   "outputs": [],
   "source": []
  },
  {
   "cell_type": "code",
   "execution_count": 495,
   "metadata": {},
   "outputs": [],
   "source": [
    "#df_reg_Raised.groupby('EIN',sort=True).filter(lambda x: x['FiscalYearEnd'].size == 18).groupby('EIN')['total_donations'].sum().value_counts()"
   ]
  },
  {
   "cell_type": "code",
   "execution_count": 496,
   "metadata": {},
   "outputs": [],
   "source": [
    "#making a copy of df_reg_Raised where outliers are removed\n",
    "#df[np.abs(df.Data-df.Data.mean()) <= (3*df.Data.std())]\n",
    "df_reg_Raised_NO = df_reg_Raised[\n",
    "    (np.abs(df_reg_Raised['membership_dues'] - df_reg_Raised['membership_dues'].mean()) <= \n",
    "                                                                    (3*df_reg_Raised['membership_dues'].std())) &\n",
    "    (np.abs(df_reg_Raised['government_grants'] - df_reg_Raised['government_grants'].mean()) <= \n",
    "                                                                    (3*df_reg_Raised['government_grants'].std())) &\n",
    "    (np.abs(df_reg_Raised['service_revenue'] - df_reg_Raised['service_revenue'].mean()) <= \n",
    "                                                                    (3*df_reg_Raised['service_revenue'].std())) &\n",
    "    (np.abs(df_reg_Raised['fundraising'] - df_reg_Raised['fundraising'].mean()) <= \n",
    "                                                                    (3*df_reg_Raised['fundraising'].std())) &\n",
    "    (np.abs(df_reg_Raised['total_donations'] - df_reg_Raised['total_donations'].mean()) <= \n",
    "                                                                    (3*df_reg_Raised['total_donations'].std())) &\n",
    "    (np.abs(df_reg_Raised['total_donations_NO_GG'] - df_reg_Raised['total_donations_NO_GG'].mean()) <= \n",
    "                                                                    (3*df_reg_Raised['total_donations_NO_GG'].std()))]"
   ]
  },
  {
   "cell_type": "code",
   "execution_count": 497,
   "metadata": {},
   "outputs": [],
   "source": [
    "#removed around 1000 rows of outliers\n",
    "#df_reg_Raised_NO.shape\n"
   ]
  },
  {
   "cell_type": "code",
   "execution_count": 498,
   "metadata": {},
   "outputs": [],
   "source": [
    "#1998 - 2015 (18 years)  only 330 EIN's that appear in all 18 years (7 of them have 0 tot_don for all years)above\n",
    "#this next line balances by removing EINs that dont have lall 18 yrs of data\n",
    "df_reg_balanced = df_reg_Raised.groupby('EIN',sort=True).filter(lambda x: x['FiscalYearEnd'].size == 18).set_index(['EIN', 'FiscalYearEnd']).sort_index()\n",
    "df_reg_balanced_NO = df_reg_Raised_NO.groupby('EIN',sort=True).filter(lambda x: x['FiscalYearEnd'].size == 18).set_index(['EIN', 'FiscalYearEnd']).sort_index()\n",
    "\n",
    "#df_reg_balanced.groupby('EIN').size()\n",
    "#FINAL DATASET FOR REGRESSION\n",
    "mydata = df_reg_balanced[['total_donations_NO_GG','fundraising','PostTreatment','PCG_Treatment',\n",
    "                          'Raised','PostTreatment*PCG_Treatment', 'government_grants']]\n",
    "mydata_NO = df_reg_balanced_NO[['total_donations_NO_GG','fundraising','PostTreatment','PCG_Treatment',\n",
    "                          'Raised','PostTreatment*PCG_Treatment', 'government_grants']]\n"
   ]
  },
  {
   "cell_type": "code",
   "execution_count": 499,
   "metadata": {},
   "outputs": [
    {
     "name": "stdout",
     "output_type": "stream",
     "text": [
      "                            PanelOLS Estimation Summary                            \n",
      "===================================================================================\n",
      "Dep. Variable:     total_donations_NO_GG   R-squared:                        0.3333\n",
      "Estimator:                      PanelOLS   R-squared (Between):              0.4582\n",
      "No. Observations:                   2502   R-squared (Within):              -0.6343\n",
      "Date:                   Wed, Apr 10 2019   R-squared (Overall):              0.3333\n",
      "Time:                           21:17:19   Log-likelihood                -3.866e+04\n",
      "Cov. Estimator:                   Robust                                           \n",
      "                                           F-statistic:                      312.23\n",
      "Entities:                            139   P-value                           0.0000\n",
      "Avg Obs:                          18.000   Distribution:                  F(4,2498)\n",
      "Min Obs:                          18.000                                           \n",
      "Max Obs:                          18.000   F-statistic (robust):             327.63\n",
      "                                           P-value                           0.0000\n",
      "Time periods:                         18   Distribution:                  F(4,2498)\n",
      "Avg Obs:                          139.00                                           \n",
      "Min Obs:                          139.00                                           \n",
      "Max Obs:                          139.00                                           \n",
      "                                                                                   \n",
      "                                      Parameter Estimates                                      \n",
      "===============================================================================================\n",
      "                             Parameter  Std. Err.     T-stat    P-value    Lower CI    Upper CI\n",
      "-----------------------------------------------------------------------------------------------\n",
      "fundraising                     0.5013     0.0647     7.7506     0.0000      0.3745      0.6282\n",
      "PostTreatment                1.183e+06  4.344e+04     27.227     0.0000   1.098e+06   1.268e+06\n",
      "PCG_Treatment                7.453e+05  5.796e+04     12.859     0.0000   6.316e+05   8.589e+05\n",
      "PostTreatment*PCG_Treatment -9.712e+05  1.155e+05    -8.4106     0.0000  -1.198e+06  -7.447e+05\n",
      "===============================================================================================\n",
      "\n",
      "\n"
     ]
    }
   ],
   "source": [
    "#regression\n",
    "#year effect becomes collinear with postTreatment - all posttreatment correspond to 2008\n",
    "y = mydata.total_donations_NO_GG #NOT INCLUDEING RAISED or GOV GRANNTs BELOW\n",
    "x = mydata[['fundraising','PostTreatment','PCG_Treatment','PostTreatment*PCG_Treatment']]\n",
    "mod = PanelOLS(y, x, time_effects = False, entity_effects=False) #cant use firm FE - perf collinear to TREATMENT\n",
    "res = mod.fit(cov_type='robust')  #clustering by EIN???? correct?\n",
    "print(res)"
   ]
  },
  {
   "cell_type": "code",
   "execution_count": 500,
   "metadata": {},
   "outputs": [
    {
     "data": {
      "text/plain": [
       "0    1543\n",
       "1     959\n",
       "Name: PostTreatment, dtype: int64"
      ]
     },
     "execution_count": 500,
     "metadata": {},
     "output_type": "execute_result"
    }
   ],
   "source": [
    "mydata['PostTreatment'].value_counts()"
   ]
  },
  {
   "cell_type": "code",
   "execution_count": 501,
   "metadata": {},
   "outputs": [],
   "source": [
    "mydata_noi = mydata.reset_index()"
   ]
  },
  {
   "cell_type": "code",
   "execution_count": 502,
   "metadata": {},
   "outputs": [
    {
     "data": {
      "image/png": "[encoded data removed]",
      "text/plain": [
       "<Figure size 432x288 with 1 Axes>"
      ]
     },
     "metadata": {
      "needs_background": "light"
     },
     "output_type": "display_data"
    }
   ],
   "source": [
    "plt = mydata_noi.plot.scatter(x = 'FiscalYearEnd', y = 'total_donations_NO_GG', title= 'TD NO GG all')"
   ]
  },
  {
   "cell_type": "code",
   "execution_count": 503,
   "metadata": {},
   "outputs": [
    {
     "data": {
      "image/png": "[encoded data removed]",
      "text/plain": [
       "<Figure size 432x288 with 1 Axes>"
      ]
     },
     "metadata": {
      "needs_background": "light"
     },
     "output_type": "display_data"
    }
   ],
   "source": [
    "#this shows issue - so many outlier\n",
    "bp = mydata_noi.boxplot(column='total_donations_NO_GG')"
   ]
  },
  {
   "cell_type": "code",
   "execution_count": 504,
   "metadata": {},
   "outputs": [
    {
     "name": "stdout",
     "output_type": "stream",
     "text": [
      "                            PanelOLS Estimation Summary                            \n",
      "===================================================================================\n",
      "Dep. Variable:     total_donations_NO_GG   R-squared:                        0.3317\n",
      "Estimator:                      PanelOLS   R-squared (Between):              0.4563\n",
      "No. Observations:                   1656   R-squared (Within):              -0.5211\n",
      "Date:                   Wed, Apr 10 2019   R-squared (Overall):              0.3317\n",
      "Time:                           21:17:19   Log-likelihood                -2.492e+04\n",
      "Cov. Estimator:                   Robust                                           \n",
      "                                           F-statistic:                      205.02\n",
      "Entities:                             92   P-value                           0.0000\n",
      "Avg Obs:                          18.000   Distribution:                  F(4,1652)\n",
      "Min Obs:                          18.000                                           \n",
      "Max Obs:                          18.000   F-statistic (robust):             279.22\n",
      "                                           P-value                           0.0000\n",
      "Time periods:                         18   Distribution:                  F(4,1652)\n",
      "Avg Obs:                          92.000                                           \n",
      "Min Obs:                          92.000                                           \n",
      "Max Obs:                          92.000                                           \n",
      "                                                                                   \n",
      "                                      Parameter Estimates                                      \n",
      "===============================================================================================\n",
      "                             Parameter  Std. Err.     T-stat    P-value    Lower CI    Upper CI\n",
      "-----------------------------------------------------------------------------------------------\n",
      "fundraising                     1.3307     0.1759     7.5647     0.0000      0.9856      1.6757\n",
      "PostTreatment                7.661e+05  3.865e+04     19.820     0.0000   6.903e+05   8.419e+05\n",
      "PCG_Treatment                5.088e+05  3.559e+04     14.296     0.0000    4.39e+05   5.786e+05\n",
      "PostTreatment*PCG_Treatment -6.049e+05   7.43e+04    -8.1409     0.0000  -7.506e+05  -4.591e+05\n",
      "===============================================================================================\n",
      "\n",
      "\n"
     ]
    }
   ],
   "source": [
    "##NOW WILL REMOVE OUTLIERS\n",
    "#regression\n",
    "y = mydata_NO.total_donations_NO_GG #NOT INCLUDEING RAISED or GOV GRANNTs BELOW\n",
    "x = mydata_NO[['fundraising','PostTreatment','PCG_Treatment','PostTreatment*PCG_Treatment']]\n",
    "mod = PanelOLS(y, x, time_effects = False, entity_effects=False) #cant use firm FE - perf collinear to TREATMENT\n",
    "res = mod.fit(cov_type='robust')  #clustering by EIN???? correct?\n",
    "print(res)"
   ]
  },
  {
   "cell_type": "code",
   "execution_count": 505,
   "metadata": {},
   "outputs": [
    {
     "data": {
      "text/plain": [
       "(0, 7)"
      ]
     },
     "execution_count": 505,
     "metadata": {},
     "output_type": "execute_result"
    }
   ],
   "source": [
    "mydata_NO[mydata_NO['total_donations_NO_GG'] == 0].shape"
   ]
  },
  {
   "cell_type": "code",
   "execution_count": 506,
   "metadata": {},
   "outputs": [],
   "source": [
    "mydata_NO_noi = mydata_NO.reset_index()"
   ]
  },
  {
   "cell_type": "code",
   "execution_count": 507,
   "metadata": {},
   "outputs": [
    {
     "data": {
      "image/png": "[encoded data removed]",
      "text/plain": [
       "<Figure size 432x288 with 1 Axes>"
      ]
     },
     "metadata": {
      "needs_background": "light"
     },
     "output_type": "display_data"
    }
   ],
   "source": [
    "plt = mydata_NO_noi.plot.scatter(x = 'FiscalYearEnd', y = 'total_donations_NO_GG', title= 'TD NO GG all')\n",
    "#constant dollars?????"
   ]
  },
  {
   "cell_type": "code",
   "execution_count": 508,
   "metadata": {},
   "outputs": [
    {
     "data": {
      "image/png": "[encoded data removed]",
      "text/plain": [
       "<Figure size 432x288 with 1 Axes>"
      ]
     },
     "metadata": {
      "needs_background": "light"
     },
     "output_type": "display_data"
    }
   ],
   "source": [
    "#this shows issue - so many outlier\n",
    "bp = mydata_NO_noi.boxplot(column='total_donations_NO_GG')"
   ]
  },
  {
   "cell_type": "code",
   "execution_count": 509,
   "metadata": {},
   "outputs": [
    {
     "data": {
      "image/png": "[encoded data removed]",
      "text/plain": [
       "<Figure size 432x288 with 1 Axes>"
      ]
     },
     "metadata": {
      "needs_background": "light"
     },
     "output_type": "display_data"
    }
   ],
   "source": [
    "bp = mydata_NO_noi[mydata_NO_noi['PCG_Treatment'] == 1].boxplot(column='total_donations_NO_GG')"
   ]
  },
  {
   "cell_type": "code",
   "execution_count": 510,
   "metadata": {},
   "outputs": [
    {
     "data": {
      "image/png": "[encoded data removed]",
      "text/plain": [
       "<Figure size 432x288 with 1 Axes>"
      ]
     },
     "metadata": {
      "needs_background": "light"
     },
     "output_type": "display_data"
    }
   ],
   "source": [
    "bp = mydata_NO_noi[mydata_NO_noi['PCG_Treatment'] == 0].boxplot(column='total_donations_NO_GG')"
   ]
  },
  {
   "cell_type": "code",
   "execution_count": 511,
   "metadata": {},
   "outputs": [
    {
     "data": {
      "image/png": "[encoded data removed]",
      "text/plain": [
       "<Figure size 432x288 with 1 Axes>"
      ]
     },
     "metadata": {
      "needs_background": "light"
     },
     "output_type": "display_data"
    }
   ],
   "source": [
    "hist = mydata_NO_noi['total_donations_NO_GG'].hist(bins=100)"
   ]
  },
  {
   "cell_type": "code",
   "execution_count": 512,
   "metadata": {},
   "outputs": [
    {
     "data": {
      "text/plain": [
       "count    1.656000e+03\n",
       "mean     7.448831e+05\n",
       "std      6.917770e+05\n",
       "min      2.090000e+02\n",
       "25%      1.580215e+05\n",
       "50%      5.680815e+05\n",
       "75%      1.105864e+06\n",
       "max      3.273867e+06\n",
       "Name: total_donations_NO_GG, dtype: float64"
      ]
     },
     "execution_count": 512,
     "metadata": {},
     "output_type": "execute_result"
    }
   ],
   "source": [
    "mydata_NO_noi['total_donations_NO_GG'].describe()"
   ]
  },
  {
   "cell_type": "code",
   "execution_count": 513,
   "metadata": {},
   "outputs": [
    {
     "data": {
      "text/plain": [
       "count    2.502000e+03\n",
       "mean     1.096286e+06\n",
       "std      1.059427e+06\n",
       "min      2.090000e+02\n",
       "20%      1.674100e+05\n",
       "50%      7.852390e+05\n",
       "80%      1.887467e+06\n",
       "max      4.985577e+06\n",
       "Name: total_donations_NO_GG, dtype: float64"
      ]
     },
     "execution_count": 513,
     "metadata": {},
     "output_type": "execute_result"
    }
   ],
   "source": [
    "mydata_noi['total_donations_NO_GG'].describe(percentiles = [.2,.8])"
   ]
  },
  {
   "cell_type": "code",
   "execution_count": 514,
   "metadata": {},
   "outputs": [
    {
     "data": {
      "text/plain": [
       "0    2142\n",
       "1     360\n",
       "Name: PCG_Treatment, dtype: int64"
      ]
     },
     "execution_count": 514,
     "metadata": {},
     "output_type": "execute_result"
    }
   ],
   "source": [
    "mydata_noi['PCG_Treatment'].value_counts()"
   ]
  },
  {
   "cell_type": "code",
   "execution_count": 515,
   "metadata": {},
   "outputs": [
    {
     "data": {
      "text/plain": [
       "0    1543\n",
       "1     959\n",
       "Name: PostTreatment, dtype: int64"
      ]
     },
     "execution_count": 515,
     "metadata": {},
     "output_type": "execute_result"
    }
   ],
   "source": [
    "mydata_noi['PostTreatment'].value_counts()"
   ]
  },
  {
   "cell_type": "code",
   "execution_count": null,
   "metadata": {},
   "outputs": [],
   "source": []
  },
  {
   "cell_type": "code",
   "execution_count": null,
   "metadata": {},
   "outputs": [],
   "source": []
  }
 ],
 "metadata": {
  "kernelspec": {
   "display_name": "Python 3",
   "language": "python",
   "name": "python3"
  },
  "language_info": {
   "codemirror_mode": {
    "name": "ipython",
    "version": 3
   },
   "file_extension": ".py",
   "mimetype": "text/x-python",
   "name": "python",
   "nbconvert_exporter": "python",
   "pygments_lexer": "ipython3",
   "version": "3.7.2"
  }
 },
 "nbformat": 4,
 "nbformat_minor": 2
}

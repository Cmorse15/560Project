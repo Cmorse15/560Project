{
 "cells": [
  {
   "cell_type": "code",
   "execution_count": 2,
   "metadata": {},
   "outputs": [],
   "source": [
    "import pandas as pd"
   ]
  },
  {
   "cell_type": "code",
   "execution_count": 3,
   "metadata": {},
   "outputs": [],
   "source": [
    "df_New_Main = pd.read_excel('TAMU_NewForm_Main_20170817.xlsx')\n",
    "df_Old_Main = pd.read_excel('TAMU_OldForm_Main_20170817.xlsx')\n",
    "df_PCG_Data = pd.read_csv('PCG_Donor_Data2.csv')"
   ]
  },
  {
   "cell_type": "code",
   "execution_count": 12,
   "metadata": {},
   "outputs": [],
   "source": [
    "df_PCG_All = df_PCG_Data.rename(index=str, columns = {\"Unnamed: 0\" : \"org_name\"})\n",
    "df_Old_All = df_Old_Main.rename(index=str, columns = {\"ein\" : \"EIN\"})[['org_name', 'EIN', 'FiscalYearEnd',\n",
    "                                                      'NTEECODE', 'government_grants', \n",
    "                                                      'service_revenue', 'membership_dues']]"
   ]
  },
  {
   "cell_type": "code",
   "execution_count": 13,
   "metadata": {},
   "outputs": [],
   "source": [
    "#where is: indirect_support, contributions_noncash, contributions_total, service_revenue ???\n",
    "df_New_All = df_New_Main.rename(index=str, columns = {\"ORGNAME\" : \"org_name\"})[['org_name', 'EIN', 'FiscalYearEnd', \n",
    "                                                      'NTEECODE', 'FED_CAMPAIGNS', 'MEMBERSHIP_DUES', \n",
    "                                                      'FUNDRAISING', 'RELATED_ORGS', 'GOV_GRANTS', 'CONTRIB_OTHER', \n",
    "                                                      'CONTRIB_NONCASH', 'CONTRIB_ALL', 'SERVICE_REVENUE']]"
   ]
  },
  {
   "cell_type": "code",
   "execution_count": 24,
   "metadata": {},
   "outputs": [
    {
     "data": {
      "text/plain": [
       "604"
      ]
     },
     "execution_count": 24,
     "metadata": {},
     "output_type": "execute_result"
    }
   ],
   "source": [
    "df_PCG_All['EIN'].nunique()"
   ]
  },
  {
   "cell_type": "code",
   "execution_count": 23,
   "metadata": {},
   "outputs": [
    {
     "data": {
      "text/plain": [
       "628"
      ]
     },
     "execution_count": 23,
     "metadata": {},
     "output_type": "execute_result"
    }
   ],
   "source": [
    "df_PCG_All['EIN'].size"
   ]
  },
  {
   "cell_type": "code",
   "execution_count": 15,
   "metadata": {},
   "outputs": [
    {
     "data": {
      "text/plain": [
       "23-7394620    12\n",
       "92-0155067    11\n",
       "92-0152088     3\n",
       "92-6001185     2\n",
       "92-0069501     1\n",
       "31-1748166     1\n",
       "92-0152121     1\n",
       "36-2428692     1\n",
       "72-1578941     1\n",
       "94-3143226     1\n",
       "20-3900032     1\n",
       "71-0889945     1\n",
       "20-1259568     1\n",
       "92-0161596     1\n",
       "92-0037322     1\n",
       "27-3970829     1\n",
       "27-2265973     1\n",
       "94-3192474     1\n",
       "92-0130785     1\n",
       "46-4894730     1\n",
       "55-0819611     1\n",
       "92-0107794     1\n",
       "05-0591944     1\n",
       "35-2455141     1\n",
       "92-0033876     1\n",
       "92-0170016     1\n",
       "20-1905431     1\n",
       "20-2913418     1\n",
       "92-0154815     1\n",
       "26-1253086     1\n",
       "              ..\n",
       "74-3076026     1\n",
       "92-0042651     1\n",
       "92-0140815     1\n",
       "92-6003642     1\n",
       "77-0621661     1\n",
       "81-0609673     1\n",
       "92-0100207     1\n",
       "92-0071124     1\n",
       "92-0151271     1\n",
       "92-0085097     1\n",
       "92-0129853     1\n",
       "46-0476816     1\n",
       "94-3220888     1\n",
       "46-4294586     1\n",
       "92-0097677     1\n",
       "71-0903105     1\n",
       "73-1703917     1\n",
       "23-7078520     1\n",
       "92-0145727     1\n",
       "92-6002175     1\n",
       "47-0910719     1\n",
       "92-0156402     1\n",
       "92-0163845     1\n",
       "20-8594266     1\n",
       "92-0070130     1\n",
       "92-0097890     1\n",
       "92-6010100     1\n",
       "73-1628436     1\n",
       "68-0510566     1\n",
       "92-0165316     1\n",
       "Name: EIN, Length: 604, dtype: int64"
      ]
     },
     "execution_count": 15,
     "metadata": {},
     "output_type": "execute_result"
    }
   ],
   "source": [
    "df_PCG_All['EIN'].value_counts()"
   ]
  },
  {
   "cell_type": "code",
   "execution_count": 16,
   "metadata": {},
   "outputs": [
    {
     "data": {
      "text/plain": [
       "6786"
      ]
     },
     "execution_count": 16,
     "metadata": {},
     "output_type": "execute_result"
    }
   ],
   "source": [
    "df_New_All['EIN'].nunique()"
   ]
  },
  {
   "cell_type": "code",
   "execution_count": 17,
   "metadata": {},
   "outputs": [
    {
     "data": {
      "text/plain": [
       "7695"
      ]
     },
     "execution_count": 17,
     "metadata": {},
     "output_type": "execute_result"
    }
   ],
   "source": [
    "df_Old_All['EIN'].nunique()"
   ]
  },
  {
   "cell_type": "code",
   "execution_count": 16,
   "metadata": {},
   "outputs": [],
   "source": [
    "df_Old_Main_EIN.sort_values(inplace = True)"
   ]
  },
  {
   "cell_type": "code",
   "execution_count": 20,
   "metadata": {},
   "outputs": [
    {
     "data": {
      "text/plain": [
       "4437"
      ]
     },
     "execution_count": 20,
     "metadata": {},
     "output_type": "execute_result"
    }
   ],
   "source": [
    "#in both old and new\n",
    "pd.merge(df_Old_All['EIN'], df_New_All['EIN'], how='inner', on=['EIN'])['EIN'].nunique()"
   ]
  },
  {
   "cell_type": "code",
   "execution_count": 21,
   "metadata": {},
   "outputs": [
    {
     "data": {
      "text/plain": [
       "338"
      ]
     },
     "execution_count": 21,
     "metadata": {},
     "output_type": "execute_result"
    }
   ],
   "source": [
    "#in both pcg and old\n",
    "pd.merge(df_PCG_All['EIN'], df_Old_All['EIN'], how='inner', on=['EIN'])['EIN'].nunique()"
   ]
  },
  {
   "cell_type": "code",
   "execution_count": 22,
   "metadata": {},
   "outputs": [
    {
     "data": {
      "text/plain": [
       "367"
      ]
     },
     "execution_count": 22,
     "metadata": {},
     "output_type": "execute_result"
    }
   ],
   "source": [
    "#in both pcg and new\n",
    "pd.merge(df_PCG_All['EIN'], df_New_All['EIN'], how='inner', on=['EIN'])['EIN'].nunique()"
   ]
  }
 ],
 "metadata": {
  "kernelspec": {
   "display_name": "Python 3",
   "language": "python",
   "name": "python3"
  },
  "language_info": {
   "codemirror_mode": {
    "name": "ipython",
    "version": 3
   },
   "file_extension": ".py",
   "mimetype": "text/x-python",
   "name": "python",
   "nbconvert_exporter": "python",
   "pygments_lexer": "ipython3",
   "version": "3.7.2"
  }
 },
 "nbformat": 4,
 "nbformat_minor": 2
}

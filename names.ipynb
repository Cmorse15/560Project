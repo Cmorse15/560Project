{
 "cells": [
  {
   "cell_type": "code",
   "execution_count": 1,
   "metadata": {},
   "outputs": [],
   "source": [
    "import pandas as pd"
   ]
  },
  {
   "cell_type": "code",
   "execution_count": 10,
   "metadata": {},
   "outputs": [],
   "source": [
    "df_New_Main = pd.read_excel('TAMU_NewForm_Main_20170817.xlsx')\n",
    "df_Old_Main = pd.read_excel('TAMU_OldForm_Main_20170817.xlsx')\n",
    "df_PCG_Data = pd.read_csv('PCG_Donor_Data.csv')"
   ]
  },
  {
   "cell_type": "code",
   "execution_count": 87,
   "metadata": {},
   "outputs": [],
   "source": [
    "df_PCG_Data_Names = df_PCG_Data.rename(index=str, columns = {\"Unnamed: 0\" : \"org_name\"})['org_name'].str.upper().str.replace(\" \",\"\").str.replace('\\W', '')\n",
    "df_New_Main_Names = df_New_Main.rename(index=str, columns = {\"ORGNAME\" : \"org_name\"})['org_name'].str.upper().str.replace(\" \",\"\").str.replace('\\W', '')\n",
    "df_Old_Main_Names = df_Old_Main['org_name'].str.upper().str.replace(\" \",\"\").str.replace('\\W', '')"
   ]
  },
  {
   "cell_type": "code",
   "execution_count": 88,
   "metadata": {},
   "outputs": [],
   "source": [
    "df_New_Main_Names = df_New_Main_Names.drop_duplicates()\n",
    "df_Old_Main_Names = df_Old_Main_Names.drop_duplicates()"
   ]
  },
  {
   "cell_type": "code",
   "execution_count": 89,
   "metadata": {},
   "outputs": [
    {
     "data": {
      "text/plain": [
       "628"
      ]
     },
     "execution_count": 89,
     "metadata": {},
     "output_type": "execute_result"
    }
   ],
   "source": [
    "df_PCG_Data_Names.nunique()"
   ]
  },
  {
   "cell_type": "code",
   "execution_count": 90,
   "metadata": {},
   "outputs": [
    {
     "data": {
      "text/plain": [
       "9088"
      ]
     },
     "execution_count": 90,
     "metadata": {},
     "output_type": "execute_result"
    }
   ],
   "source": [
    "df_New_Main_Names.nunique()"
   ]
  },
  {
   "cell_type": "code",
   "execution_count": 91,
   "metadata": {},
   "outputs": [
    {
     "data": {
      "text/plain": [
       "10919"
      ]
     },
     "execution_count": 91,
     "metadata": {},
     "output_type": "execute_result"
    }
   ],
   "source": [
    "df_Old_Main_Names.nunique()"
   ]
  },
  {
   "cell_type": "code",
   "execution_count": 92,
   "metadata": {},
   "outputs": [],
   "source": [
    "df_Old_Main_Names.sort_values(inplace = True)"
   ]
  },
  {
   "cell_type": "code",
   "execution_count": null,
   "metadata": {},
   "outputs": [],
   "source": []
  },
  {
   "cell_type": "code",
   "execution_count": null,
   "metadata": {},
   "outputs": [],
   "source": []
  },
  {
   "cell_type": "code",
   "execution_count": 96,
   "metadata": {},
   "outputs": [
    {
     "data": {
      "text/plain": [
       "4032"
      ]
     },
     "execution_count": 96,
     "metadata": {},
     "output_type": "execute_result"
    }
   ],
   "source": [
    "#in both old and new\n",
    "pd.merge(df_Old_Main_Names, df_New_Main_Names, how='inner', on=['org_name']).size"
   ]
  },
  {
   "cell_type": "code",
   "execution_count": 97,
   "metadata": {},
   "outputs": [
    {
     "data": {
      "text/plain": [
       "170"
      ]
     },
     "execution_count": 97,
     "metadata": {},
     "output_type": "execute_result"
    }
   ],
   "source": [
    "#in both pcg and old\n",
    "pd.merge(df_PCG_Data_Names, df_Old_Main_Names, how='inner', on=['org_name']).size"
   ]
  },
  {
   "cell_type": "code",
   "execution_count": 98,
   "metadata": {},
   "outputs": [
    {
     "data": {
      "text/plain": [
       "192"
      ]
     },
     "execution_count": 98,
     "metadata": {},
     "output_type": "execute_result"
    }
   ],
   "source": [
    "#in both pcg and new\n",
    "pd.merge(df_PCG_Data_Names, df_New_Main_Names, how='inner', on=['org_name']).size"
   ]
  },
  {
   "cell_type": "code",
   "execution_count": 102,
   "metadata": {},
   "outputs": [
    {
     "data": {
      "text/plain": [
       "27467                      12STEPSFORCHRISTIANLIVINGCENTER\n",
       "20780                             1STUNITEDCHARITABLETRUST\n",
       "345                                 1STWAYOFMARICOPACOUNTY\n",
       "9311                2001SPECIALOLYMPICSWORLDWINTERGAMESINC\n",
       "14622      2007040809000229IAGLENDALELODGENO2243LOYALORDER\n",
       "9780                  20070803153000029IBMESAMONTESSORIINC\n",
       "20881                              260CLUBOFGREENVALLEYINC\n",
       "36368    29IBCQ920133751200312GENERALTEAMSTERSLOCAL959J...\n",
       "22816                         2NDADVENTBROADCASTINGNETWORK\n",
       "24129                              3DIMENSIONMINISTRIESINC\n",
       "10264                            3HOFOUNDATIONOFARIZONAINC\n",
       "8939                4020111SIMONIANLITTLELEAGUEBASEBALLINC\n",
       "23190    4HCLUBMOHAVECOUNTY4HLEADERSCOUNCILNIASTATECOUNCIL\n",
       "26896                                  4HCLUBSAFFILIATED4H\n",
       "28523            4HCLUBSAFFILIATED4HSHAMROCKHUSTLERS4HCLUB\n",
       "17876                4HCLUBSANDAFFILIATED4HYAVAPAICOUNTY4H\n",
       "32138                           51STAVEFRIENDSHIPCENTERINC\n",
       "26464           60BUILDERSLODGEFREEACCEPTEDMASONSOFARIZONA\n",
       "23445                                      AASCHOUSING1INC\n",
       "3009                 AASKAIDTOADOPTIONOFSPECIALKIDSARIZONA\n",
       "34546                                    AATSEELOFTHEUSINC\n",
       "12338                            ABBOTTORABBITLITTLELEAGUE\n",
       "10630                         ABCALTERNATIVELEARNINGCENTER\n",
       "10629                      ABCALTERNATIVELEARNINGCENTERINC\n",
       "25408                     ABETTERWAYOFLIFETRANSITIONALHOME\n",
       "612                                           ABOUTCAREINC\n",
       "9437                            ABOVEANDBEYONDCHILDCAREINC\n",
       "31782                           ABOVETHELINEASSOCIATIONINC\n",
       "27117                           ABUNDANTHEARTMINISTRIESINC\n",
       "10049                                      ABUNDANTLIFEINC\n",
       "                               ...                        \n",
       "18435     YUMACOFAMILYADVOCACYCOALITIONINCAKAAMBERLYSPLACE\n",
       "17309                             YUMACOMMUNITYFOODBANKINC\n",
       "20002                              YUMACOMMUNITYTHEATERINC\n",
       "24179                            YUMACONSERVATIONGARDENINC\n",
       "5172                            YUMACOUNTYHUMANESOCIETYINC\n",
       "14632          YUMACROSSINGNATIONALHERITAGEAREACORPORATION\n",
       "17101                              YUMAFINEARTSASSOCIATION\n",
       "32513                                    YUMAMAINSTREETINC\n",
       "29939                       YUMANEIGHBORHOODDEVELOPMENTORG\n",
       "12875                                        YUMAPOPWARNER\n",
       "12707               YUMAPRIVATEINDUSTRYCOUNCILINCORPORATED\n",
       "18675                                   YUMAREADINGCOUNCIL\n",
       "14562                                        YUMATENNISINC\n",
       "33632                                YUMAWOMENSBOWLINGASSN\n",
       "35541                                    YUMAWORCCENTERINC\n",
       "28051                                       YUMAYOUTHCHOIR\n",
       "7350                            YUMAYOUTHSOCCERASSOCIATION\n",
       "19244                       YUUTELITNAURVIATPEOPLESLEAMING\n",
       "32629                                      YWAMARCTICMERCY\n",
       "2079                                  YWCAOFMARICOPACOUNTY\n",
       "22253                             ZACHGORDONTEENAQECLUBINC\n",
       "60                                 ZANEGREYCABINFOUNDATION\n",
       "15772                        ZETAOMICRONSIGMAKAPPASORORITY\n",
       "30735                                      ZETETICINSTITUE\n",
       "30733                                     ZETETICINSTITUTE\n",
       "35511                                      ZIAATHELTICCLUB\n",
       "18126                                           ZOLAPWHITE\n",
       "18127                                     ZOLAPWHITE323410\n",
       "23886                             ZUNICOMMUNITYASSOCIATION\n",
       "30888                                                 ZUZI\n",
       "Name: org_name, Length: 6887, dtype: object"
      ]
     },
     "execution_count": 102,
     "metadata": {},
     "output_type": "execute_result"
    }
   ],
   "source": [
    "#in old but not new\n",
    "df_Old_Main_Names[~df_Old_Main_Names.isin(df_New_Main_Names)].dropna().sort_values()"
   ]
  },
  {
   "cell_type": "code",
   "execution_count": 101,
   "metadata": {},
   "outputs": [
    {
     "data": {
      "text/plain": [
       "5936                                       0031GREERDEWITT\n",
       "4786                                           0BKCLASSINC\n",
       "4078                                          0CONNORHOUSE\n",
       "3216                               1010INTERNATIONALNETINC\n",
       "7035                                     1111ISRAELROADLLC\n",
       "6916                                1973NORTHRULONWHITELLC\n",
       "4562                               1STRATE2NDHANDTHRIFTINC\n",
       "23707                   2618COMMERCIALDRINVESTMENTGROUPLLC\n",
       "6844                                             2DARESCUE\n",
       "6535                                      32NDSTLEGACYFUND\n",
       "5974                                            3SISSYVEBA\n",
       "27588                                           408VOITURE\n",
       "27584                                       408VOITURE1539\n",
       "28572                          4KHISTORILALPVBLICATIONASSN\n",
       "6722                                       4MATIFOUNDATION\n",
       "5324                                            4TUCSONINC\n",
       "24221                                 610GREATALASKACOUNAL\n",
       "24222                                610GREATALASKACOUNCIL\n",
       "6789                            610GREATALASKACOUNCILTRUST\n",
       "6793     610GREATALASKACOUNCILTRUSTC0FIRSTNATIONALBANKA...\n",
       "10003                                           AAONMSANCI\n",
       "1853                                         AASCHOUSINGII\n",
       "1856                             AASCHOUSINGIIINCORPORATED\n",
       "2663        AASCOTTISHRITEOFFREEMASONRYSJVALLEYOFANCHORAGE\n",
       "29941                                  ABAAGCEDUCATIONFUND\n",
       "17911                            ABAANZONABUILDERSALLIANCE\n",
       "18462                                     ABAFOUNDATIONINC\n",
       "26474                                     ABATEOFALASKSINC\n",
       "3791                                        ABBYSANGELRIDE\n",
       "3790                                     ABBYSANGELRIDEINC\n",
       "                               ...                        \n",
       "26639                           YUKONGUESTINTERNATIONALLTD\n",
       "5788             YUKONKOYUKUKELDERASSISTEDLIVINGCONSORTIUM\n",
       "5623                      YUKONKUSKOKWIMCOASTALASSOCIATION\n",
       "24823              YUKONKUSKOKWIMHEALTHCORPORATIONPOBOX528\n",
       "27500               YUKONRIVERDRAINAGEFISHERIESASSOCIATION\n",
       "12426                           YUMAAREAHOUSINGOPPORTUNITY\n",
       "30573                       YUMABALLETTHEATREANDPERFORMING\n",
       "14425                                YUMACOMMUNITYFOODBANK\n",
       "10199                          YUMACOUNTYCHAMBEROFCOMMERCE\n",
       "10414                                 YUMACOUNTYFARMBUREAU\n",
       "9415                      YUMACROSSINGNATIONALHERITAGEAREA\n",
       "9418            YUMACROSSINGNATIONALHERITAGEAREAAHIAIUAREA\n",
       "22904                        YUMAFRESHVEGETABLEASSOCIATION\n",
       "11411                               YUMAGOLFANGCOUNTRYCLUB\n",
       "9791                                        YUMAROTARYCLUB\n",
       "7157               YUMASEDUCATIONSCHOAIRSHIPFUNDFORKIDSINC\n",
       "7156               YUMASEDUCATIONSCHOLARSHIPFUNDLORKIDSINC\n",
       "6                      YUMASOUTHWESTCONTRACTORSASSOCIATION\n",
       "9134                           YUMATERNTORYLIVESTEAMERSINC\n",
       "9132                          YUMATERRITORYLIVESTEAMERSINC\n",
       "10917                                 YUMATRAPSKEETCLUBINC\n",
       "3933                                  YUPIKWOMENSCOALITION\n",
       "6802                  YUUTELITNAURVIATPEOPLESLEAMINGCENTER\n",
       "22370                                    YUUTYAQUNGVIATLLC\n",
       "27392                                           YWCAALASKA\n",
       "27394                                         YWCAOFALASKA\n",
       "10650                                YWCAOFSOUTHERNARIZONA\n",
       "12670                   ZANMCABLECOMMUNICATIONSASSOCIATION\n",
       "2058             ZENDERENVIRONMENTALHEALTHANDRESEARCHGROUP\n",
       "20195                                      ZIAATHLETICCLUC\n",
       "Name: org_name, Length: 5056, dtype: object"
      ]
     },
     "execution_count": 101,
     "metadata": {},
     "output_type": "execute_result"
    }
   ],
   "source": [
    "#in new but not old\n",
    "df_New_Main_Names[~df_New_Main_Names.isin(df_Old_Main_Names)].dropna().sort_values()"
   ]
  },
  {
   "cell_type": "code",
   "execution_count": null,
   "metadata": {},
   "outputs": [],
   "source": []
  }
 ],
 "metadata": {
  "kernelspec": {
   "display_name": "Python 3",
   "language": "python",
   "name": "python3"
  },
  "language_info": {
   "codemirror_mode": {
    "name": "ipython",
    "version": 3
   },
   "file_extension": ".py",
   "mimetype": "text/x-python",
   "name": "python",
   "nbconvert_exporter": "python",
   "pygments_lexer": "ipython3",
   "version": "3.7.2"
  }
 },
 "nbformat": 4,
 "nbformat_minor": 2
}
